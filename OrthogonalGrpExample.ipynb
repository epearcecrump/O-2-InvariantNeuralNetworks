{
 "cells": [
  {
   "cell_type": "markdown",
   "id": "29996642",
   "metadata": {},
   "source": [
    "# O(2)-Invariant Neural Network Example: Learning the Dot Product"
   ]
  },
  {
   "cell_type": "markdown",
   "id": "2edacf5e",
   "metadata": {},
   "source": [
    "We show how we can use an $O(2)$-invariant neural network to learn the dot product between any two vectors in $\\mathbb{R}^{2}$.\n",
    "\n",
    "We can model this dot product by a function $(\\mathbb{R}^2)^{\\otimes 2} \\rightarrow \\mathbb{R}$.\n",
    "\n",
    "We generate some synthetic training data that has some scaled Gaussian noise added to it.\n",
    "\n",
    "The neural network architecture that we use comes from the paper \"Brauer's Group Equivariant Neural Networks\", which can be found at https://arxiv.org/abs/2212.08630."
   ]
  },
  {
   "cell_type": "code",
   "execution_count": 1,
   "id": "a72472f6",
   "metadata": {},
   "outputs": [],
   "source": [
    "import torch\n",
    "import numpy as np\n",
    "from torch import nn\n",
    "from torch import optim\n",
    "from torch.utils.data import TensorDataset, DataLoader"
   ]
  },
  {
   "cell_type": "code",
   "execution_count": 2,
   "id": "23317563",
   "metadata": {},
   "outputs": [
    {
     "name": "stdout",
     "output_type": "stream",
     "text": [
      "Using a mps device for training.\n"
     ]
    }
   ],
   "source": [
    "if torch.backends.mps.is_available():\n",
    "    device = \"mps\"\n",
    "elif torch.cuda.is_available():\n",
    "    device = \"cuda\"\n",
    "else:\n",
    "    device = \"cpu\"\n",
    "\n",
    "print(f\"Using a {device} device for training.\")"
   ]
  },
  {
   "cell_type": "markdown",
   "id": "327caa26",
   "metadata": {},
   "source": [
    "### Part I: Define the $O(2)$-Equivariant Layers"
   ]
  },
  {
   "cell_type": "markdown",
   "id": "b4233e43",
   "metadata": {},
   "source": [
    "We first define a learnable, linear, $O(2)$-equivariant layer of the form $(\\mathbb{R}^2)^{\\otimes 2} \\rightarrow (\\mathbb{R}^2)^{\\otimes 2}$."
   ]
  },
  {
   "cell_type": "code",
   "execution_count": 3,
   "id": "24177721",
   "metadata": {},
   "outputs": [],
   "source": [
    "class O222Layer(torch.nn.Module):\n",
    "    \"\"\"\n",
    "     - A learnable, linear, O(2)-equivariant layer of the form (R^2)^{\\otimes 2} -> (R^2)^{\\otimes 2}\n",
    "    \"\"\"\n",
    "    def __init__(self):\n",
    "        super().__init__()\n",
    "        self.lambda1 = torch.nn.Parameter(torch.randn(()))\n",
    "        self.lambda2 = torch.nn.Parameter(torch.randn(()))\n",
    "        self.lambda3 = torch.nn.Parameter(torch.randn(()))\n",
    "        self.dim = 2\n",
    "        \n",
    "    def forward(self, X):\n",
    "        weight = torch.zeros((self.dim*self.dim,self.dim*self.dim)).to(device)\n",
    "\n",
    "        #lambda_1\n",
    "        for i in range(self.dim):\n",
    "            for j in range(self.dim):\n",
    "                for k in range(self.dim):\n",
    "                    for l in range(self.dim):\n",
    "                        if i == j and k == l:\n",
    "                            weight[self.dim*i + j][self.dim*k + l] += self.lambda1\n",
    "\n",
    "        #lambda_2\n",
    "        for i in range(self.dim):\n",
    "            for j in range(self.dim):\n",
    "                for k in range(self.dim):\n",
    "                    for l in range(self.dim):\n",
    "                        if i == k and j == l:\n",
    "                            weight[self.dim*i + j][self.dim*k + l] += self.lambda2\n",
    "\n",
    "        #lambda_3\n",
    "        for i in range(self.dim):\n",
    "            for j in range(self.dim):\n",
    "                for k in range(self.dim):\n",
    "                    for l in range(self.dim):\n",
    "                        if i == l and j == k:\n",
    "                            weight[self.dim*i + j][self.dim*k + l] += self.lambda3 \n",
    "        \n",
    "        linear = torch.einsum('ij,kj->ki', weight, X)    # allows for batch processing\n",
    "        return linear"
   ]
  },
  {
   "cell_type": "markdown",
   "id": "6033449e",
   "metadata": {},
   "source": [
    "We check that the weight matrix will be of the correct form, by setting $\\lambda_1 = 1$, $\\lambda_2 = 2$ and $\\lambda_3 = 3$."
   ]
  },
  {
   "cell_type": "code",
   "execution_count": 4,
   "id": "27ed6fc0",
   "metadata": {},
   "outputs": [
    {
     "name": "stdout",
     "output_type": "stream",
     "text": [
      "tensor([[1., 0., 0., 1.],\n",
      "        [0., 0., 0., 0.],\n",
      "        [0., 0., 0., 0.],\n",
      "        [1., 0., 0., 1.]], device='mps:0')\n",
      "tensor([[3., 0., 0., 1.],\n",
      "        [0., 2., 0., 0.],\n",
      "        [0., 0., 2., 0.],\n",
      "        [1., 0., 0., 3.]], device='mps:0')\n",
      "tensor([[6., 0., 0., 1.],\n",
      "        [0., 2., 3., 0.],\n",
      "        [0., 3., 2., 0.],\n",
      "        [1., 0., 0., 6.]], device='mps:0')\n"
     ]
    },
    {
     "name": "stderr",
     "output_type": "stream",
     "text": [
      "/Users/Edward/pytorch/env/lib/python3.10/site-packages/torch/_tensor_str.py:115: UserWarning: The operator 'aten::nonzero' is not currently supported on the MPS backend and will fall back to run on the CPU. This may have performance implications. (Triggered internally at /Users/runner/work/_temp/anaconda/conda-bld/pytorch_1666646835428/work/aten/src/ATen/mps/MPSFallback.mm:11.)\n",
      "  nonzero_finite_vals = torch.masked_select(\n"
     ]
    }
   ],
   "source": [
    "# A check that the weight matrix will be of the correct form\n",
    "\n",
    "dim = 2\n",
    "weight = torch.zeros((dim*dim,dim*dim)).to(device)\n",
    "\n",
    "#lambda_1 = 1\n",
    "for i in range(dim):\n",
    "    for j in range(dim):\n",
    "        for k in range(dim):\n",
    "            for l in range(dim):\n",
    "                if i == j and k == l:\n",
    "                    weight[dim*i + j][dim*k + l] += 1\n",
    "print(weight)\n",
    "\n",
    "#lambda_2 = 2\n",
    "for i in range(dim):\n",
    "    for j in range(dim):\n",
    "        for k in range(dim):\n",
    "            for l in range(dim):\n",
    "                if i == k and j == l:\n",
    "                    weight[dim*i + j][dim*k + l] += 2\n",
    "print(weight)\n",
    "\n",
    "#lambda_3 = 3\n",
    "for i in range(dim):\n",
    "    for j in range(dim):\n",
    "        for k in range(dim):\n",
    "            for l in range(dim):\n",
    "                if i == l and j == k:\n",
    "                    weight[dim*i + j][dim*k + l] += 3            \n",
    "print(weight)"
   ]
  },
  {
   "cell_type": "markdown",
   "id": "9928f3da",
   "metadata": {},
   "source": [
    "We now define a learnable, linear, $O(2)$-equivariant layer of the form $(\\mathbb{R}^2)^{\\otimes 2} \\rightarrow \\mathbb{R}$."
   ]
  },
  {
   "cell_type": "code",
   "execution_count": 5,
   "id": "a242a758",
   "metadata": {},
   "outputs": [],
   "source": [
    "class O220Layer(torch.nn.Module):\n",
    "    \"\"\"\n",
    "     - A learnable, linear, O(2)-invariant layer of the form (R^2)^{\\otimes 2} -> R\n",
    "    \"\"\"\n",
    "    def __init__(self):\n",
    "        super().__init__()\n",
    "        self.lambda1 = torch.nn.Parameter(torch.randn(()))\n",
    "        self.dim = 2\n",
    "        \n",
    "    def forward(self, X):\n",
    "        weight = torch.zeros((1,self.dim*self.dim)).to(device)\n",
    "        \n",
    "        for k in range(self.dim):\n",
    "            for l in range(self.dim):\n",
    "                if k == l:\n",
    "                    weight[0][dim*k + l] += self.lambda1\n",
    "        \n",
    "        linear = torch.einsum('ij,kj->ki', weight, X)    # allows for batch processing\n",
    "        return linear"
   ]
  },
  {
   "cell_type": "markdown",
   "id": "26dd1248",
   "metadata": {},
   "source": [
    "Again, we check that the weight matrix will be of the correct form, by setting $\\lambda_1 = 5$."
   ]
  },
  {
   "cell_type": "code",
   "execution_count": 6,
   "id": "d208a002",
   "metadata": {},
   "outputs": [
    {
     "name": "stdout",
     "output_type": "stream",
     "text": [
      "tensor([[5., 0., 0., 5.]])\n"
     ]
    }
   ],
   "source": [
    "# A check that the weight matrix will be of the correct form\n",
    "\n",
    "dim = 2\n",
    "weight2 = torch.zeros((1,dim*dim))\n",
    "\n",
    "#lambda_1 = 5\n",
    "for k in range(dim):\n",
    "    for l in range(dim):\n",
    "        if k == l:\n",
    "            weight2[0][dim*k + l] += 5\n",
    "print(weight2)"
   ]
  },
  {
   "cell_type": "markdown",
   "id": "67ef79e8",
   "metadata": {},
   "source": [
    "We can now build an $O(2)$-equivariant neural network composed of these linear layers and pointwise, equivariant, non-linearities, for example:"
   ]
  },
  {
   "cell_type": "code",
   "execution_count": 7,
   "id": "42a4e0bb",
   "metadata": {},
   "outputs": [],
   "source": [
    "class Orthogonal2NeuralNetwork(nn.Module):\n",
    "    def __init__(self):\n",
    "        super(Orthogonal2NeuralNetwork, self).__init__()\n",
    "        self.layer1 = O222Layer()\n",
    "        self.layer2 = O222Layer()\n",
    "        self.layer3 = O220Layer()\n",
    "        self.relu = torch.nn.ReLU()\n",
    "        \n",
    "    def forward(self, X):\n",
    "        X = self.layer1(X)\n",
    "        X = self.relu(X)\n",
    "        X = self.layer2(X)\n",
    "        X = self.relu(X)\n",
    "        X = self.layer3(X)\n",
    "        X = self.relu(X)\n",
    "        return X"
   ]
  },
  {
   "cell_type": "markdown",
   "id": "bbc5d8d2",
   "metadata": {},
   "source": [
    "### Part II: Training Data Generation"
   ]
  },
  {
   "cell_type": "markdown",
   "id": "94e34ec1",
   "metadata": {},
   "source": [
    "In this section, we generate some synthetic data. We first create pairs of vectors that live in $\\mathbb{R}^{2}$ (expressed in the standard basis of $\\mathbb{R}^{2}$), and calculate their tensor product. These will represent the input data to the model(s)."
   ]
  },
  {
   "cell_type": "code",
   "execution_count": 8,
   "id": "8ab6eeac",
   "metadata": {},
   "outputs": [
    {
     "name": "stdout",
     "output_type": "stream",
     "text": [
      "[[ 0.49671415 -0.1382643 ]\n",
      " [ 0.64768854  1.52302986]\n",
      " [-0.23415337 -0.23413696]\n",
      " ...\n",
      " [ 2.50323781  0.02447967]\n",
      " [-0.96266853 -0.63363987]\n",
      " [-2.25672511  1.60701901]]\n",
      "[[ 1.59476199 -1.01550744]\n",
      " [-0.22788429  0.09560754]\n",
      " [-0.96035305 -1.75510203]\n",
      " ...\n",
      " [ 1.36867699  0.36583056]\n",
      " [-2.40627814  0.88349343]\n",
      " [-1.27230501  0.85917276]]\n",
      "[[0. 0. 0. 0.]\n",
      " [0. 0. 0. 0.]\n",
      " [0. 0. 0. 0.]\n",
      " ...\n",
      " [0. 0. 0. 0.]\n",
      " [0. 0. 0. 0.]\n",
      " [0. 0. 0. 0.]]\n"
     ]
    }
   ],
   "source": [
    "#Data Generation\n",
    "np.random.seed(42)\n",
    "N = 6400\n",
    "dim = 2\n",
    "\n",
    "X_1 = np.random.randn(N, dim)\n",
    "print(X_1)\n",
    "\n",
    "X_2 = np.random.randn(N, dim)\n",
    "print(X_2)\n",
    "\n",
    "X = np.zeros((N, dim*dim))\n",
    "print(X)"
   ]
  },
  {
   "cell_type": "code",
   "execution_count": 9,
   "id": "0304a113",
   "metadata": {},
   "outputs": [
    {
     "name": "stdout",
     "output_type": "stream",
     "text": [
      "[[ 0.79214085 -0.50441692 -0.22049865  0.14040843]\n",
      " [-0.14759804  0.06192391 -0.34707458  0.14561314]\n",
      " [ 0.22486991  0.41096306  0.22485414  0.41093425]\n",
      " ...\n",
      " [ 3.42612399  0.91576088  0.03350476  0.00895541]\n",
      " [ 2.31644825 -0.85051132  1.52471376 -0.55981666]\n",
      " [ 2.87124267 -1.93891674 -2.04461834  1.38070696]]\n"
     ]
    }
   ],
   "source": [
    "for i in range(0,N):\n",
    "    X[i] = np.kron(X_1[i], X_2[i])\n",
    "print(X)"
   ]
  },
  {
   "cell_type": "markdown",
   "id": "d687b87a",
   "metadata": {},
   "source": [
    "We now calculate the dot products of the vectors, and add some scaled Gaussian noise. These will form the labels for the input data."
   ]
  },
  {
   "cell_type": "code",
   "execution_count": 10,
   "id": "147c87a8",
   "metadata": {},
   "outputs": [
    {
     "name": "stdout",
     "output_type": "stream",
     "text": [
      "[[ 9.32549277e-01]\n",
      " [-1.98489742e-03]\n",
      " [ 6.35804157e-01]\n",
      " ...\n",
      " [ 3.43507940e+00]\n",
      " [ 1.75663159e+00]\n",
      " [ 4.25194962e+00]]\n"
     ]
    }
   ],
   "source": [
    "dotprod = np.sum(X_1*X_2, axis=1)\n",
    "dotprod = np.reshape(dotprod, (N,1))\n",
    "print(dotprod)"
   ]
  },
  {
   "cell_type": "code",
   "execution_count": 11,
   "id": "b43e4e66",
   "metadata": {},
   "outputs": [
    {
     "name": "stdout",
     "output_type": "stream",
     "text": [
      "[[0.0901518 ]\n",
      " [0.03298926]\n",
      " [0.05436809]\n",
      " ...\n",
      " [0.07900326]\n",
      " [0.04654331]\n",
      " [0.06654187]]\n"
     ]
    }
   ],
   "source": [
    "epsilon = 0.1 * np.random.randn(N, 1)\n",
    "print(epsilon)"
   ]
  },
  {
   "cell_type": "code",
   "execution_count": 12,
   "id": "fcbd5f2d",
   "metadata": {},
   "outputs": [
    {
     "name": "stdout",
     "output_type": "stream",
     "text": [
      "[[1.02270108]\n",
      " [0.03100436]\n",
      " [0.69017225]\n",
      " ...\n",
      " [3.51408266]\n",
      " [1.8031749 ]\n",
      " [4.31849149]]\n"
     ]
    }
   ],
   "source": [
    "## learn dot product (with noise)\n",
    "Y = dotprod + epsilon\n",
    "print(Y)"
   ]
  },
  {
   "cell_type": "markdown",
   "id": "8ef89b48",
   "metadata": {},
   "source": [
    "Finally, we create tensors that live on the device, ready to be used for training our models."
   ]
  },
  {
   "cell_type": "code",
   "execution_count": 13,
   "id": "5ef1265a",
   "metadata": {},
   "outputs": [
    {
     "name": "stdout",
     "output_type": "stream",
     "text": [
      "tensor([[ 0.7921, -0.5044, -0.2205,  0.1404],\n",
      "        [-0.1476,  0.0619, -0.3471,  0.1456],\n",
      "        [ 0.2249,  0.4110,  0.2249,  0.4109],\n",
      "        ...,\n",
      "        [ 3.4261,  0.9158,  0.0335,  0.0090],\n",
      "        [ 2.3164, -0.8505,  1.5247, -0.5598],\n",
      "        [ 2.8712, -1.9389, -2.0446,  1.3807]], device='mps:0',\n",
      "       requires_grad=True)\n"
     ]
    }
   ],
   "source": [
    "X_tensor = torch.tensor(X, dtype = torch.float, requires_grad = True, device=device)\n",
    "print(X_tensor)"
   ]
  },
  {
   "cell_type": "code",
   "execution_count": 14,
   "id": "5ed494eb",
   "metadata": {},
   "outputs": [
    {
     "name": "stdout",
     "output_type": "stream",
     "text": [
      "tensor([[1.0227],\n",
      "        [0.0310],\n",
      "        [0.6902],\n",
      "        ...,\n",
      "        [3.5141],\n",
      "        [1.8032],\n",
      "        [4.3185]], device='mps:0', requires_grad=True)\n"
     ]
    }
   ],
   "source": [
    "Y_tensor = torch.tensor(Y, dtype = torch.float, requires_grad = True, device=device)\n",
    "print(Y_tensor)"
   ]
  },
  {
   "cell_type": "markdown",
   "id": "53cd90cf",
   "metadata": {},
   "source": [
    "### Part III: Model Training"
   ]
  },
  {
   "cell_type": "markdown",
   "id": "25288f00",
   "metadata": {},
   "source": [
    "We create three models that we train with the training data. We will use these models (on test data) to show how well they generalise to unseen data."
   ]
  },
  {
   "cell_type": "code",
   "execution_count": 15,
   "id": "3ef6ede3",
   "metadata": {},
   "outputs": [
    {
     "name": "stdout",
     "output_type": "stream",
     "text": [
      "[Parameter containing:\n",
      "tensor([[-0.4635, -0.4597,  0.2921, -0.2624]], device='mps:0',\n",
      "       requires_grad=True), Parameter containing:\n",
      "tensor([-0.2768], device='mps:0', requires_grad=True)]\n"
     ]
    }
   ],
   "source": [
    "model_linear = nn.Linear(4,1).to(device)\n",
    "print(list(model_linear.parameters()))"
   ]
  },
  {
   "cell_type": "code",
   "execution_count": 16,
   "id": "465ea14b",
   "metadata": {},
   "outputs": [
    {
     "name": "stdout",
     "output_type": "stream",
     "text": [
      "[Parameter containing:\n",
      "tensor(-0.8172, requires_grad=True)]\n"
     ]
    }
   ],
   "source": [
    "model_Orth_layer = O220Layer()\n",
    "print(list(model_Orth_layer.parameters()))"
   ]
  },
  {
   "cell_type": "code",
   "execution_count": 17,
   "id": "5ca6a955",
   "metadata": {},
   "outputs": [
    {
     "name": "stdout",
     "output_type": "stream",
     "text": [
      "[Parameter containing:\n",
      "tensor(0.7488, requires_grad=True), Parameter containing:\n",
      "tensor(-0.0502, requires_grad=True), Parameter containing:\n",
      "tensor(0.1457, requires_grad=True), Parameter containing:\n",
      "tensor(1.5516, requires_grad=True), Parameter containing:\n",
      "tensor(0.1126, requires_grad=True), Parameter containing:\n",
      "tensor(-0.3866, requires_grad=True), Parameter containing:\n",
      "tensor(1.8287, requires_grad=True)]\n"
     ]
    }
   ],
   "source": [
    "model_Orth_Network = Orthogonal2NeuralNetwork()\n",
    "print(list(model_Orth_Network .parameters()))"
   ]
  },
  {
   "cell_type": "markdown",
   "id": "b7b8f979",
   "metadata": {},
   "source": [
    "We set the parameters, and create an iterable which will be used for training the models."
   ]
  },
  {
   "cell_type": "code",
   "execution_count": 18,
   "id": "09816174",
   "metadata": {},
   "outputs": [],
   "source": [
    "lr = 0.01\n",
    "batch_size = 64\n",
    "num_of_iterations = N // batch_size\n",
    "\n",
    "torch.manual_seed(42)\n",
    "loss_fn = nn.MSELoss(reduction='mean')\n",
    "n_epochs = 20"
   ]
  },
  {
   "cell_type": "code",
   "execution_count": 19,
   "id": "1f4f5f76",
   "metadata": {},
   "outputs": [],
   "source": [
    "optimizer_linear = optim.Adam(model_linear.parameters(), lr=lr)\n",
    "optimizer_Orth_layer = optim.Adam(model_Orth_layer.parameters(), lr=lr)\n",
    "optimizer_Orth_Network = optim.Adam(model_Orth_Network.parameters(), lr=lr)"
   ]
  },
  {
   "cell_type": "code",
   "execution_count": 20,
   "id": "020ab1ae",
   "metadata": {},
   "outputs": [],
   "source": [
    "train_dataset = TensorDataset(X_tensor,Y_tensor)\n",
    "train_dataloader = DataLoader(train_dataset, batch_size=batch_size, shuffle=True) # create your dataloader"
   ]
  },
  {
   "cell_type": "code",
   "execution_count": 21,
   "id": "62bba4ed",
   "metadata": {},
   "outputs": [],
   "source": [
    "def train_model(model, dataloader, n_epochs, loss_fn, optimizer, device):\n",
    "    for epoch in range(n_epochs):\n",
    "        model.train()\n",
    "        for batch, (X_tensor_slice, Y_tensor_slice) in enumerate(dataloader):\n",
    "            #Y_res = torch.zeros((batch_size,1)).to(device)\n",
    "\n",
    "            Y_res = model(X_tensor_slice)\n",
    "\n",
    "            loss = loss_fn(Y_res, Y_tensor_slice)\n",
    "\n",
    "            loss.backward()\n",
    "            optimizer.step()\n",
    "            optimizer.zero_grad()\n",
    "\n",
    "            # Print the Loss and Accuracy at the end of every 20th iteration.\n",
    "            if (batch + 1) % 20 == 0:\n",
    "                    print(\"Epoch [{}/{}], Step [{}/{}], Loss: {:.4f}, Params: {}\"\n",
    "                          .format(epoch + 1, n_epochs, batch + 1, len(dataloader), loss.item(), model.state_dict()))\n",
    "\n",
    "    return None"
   ]
  },
  {
   "cell_type": "markdown",
   "id": "4b826dd9",
   "metadata": {},
   "source": [
    "We now train the three models."
   ]
  },
  {
   "cell_type": "code",
   "execution_count": 22,
   "id": "842e09b9",
   "metadata": {},
   "outputs": [
    {
     "name": "stdout",
     "output_type": "stream",
     "text": [
      "Epoch [1/20], Step [20/100], Loss: 3.9633, Params: OrderedDict([('weight', tensor([[-0.2746, -0.3218,  0.1696, -0.0757]], device='mps:0')), ('bias', tensor([-0.1086], device='mps:0'))])\n",
      "Epoch [1/20], Step [40/100], Loss: 1.8973, Params: OrderedDict([('weight', tensor([[-0.0887, -0.2045,  0.0705,  0.0987]], device='mps:0')), ('bias', tensor([-0.0459], device='mps:0'))])\n",
      "Epoch [1/20], Step [60/100], Loss: 1.4411, Params: OrderedDict([('weight', tensor([[ 0.0845, -0.0925,  0.0435,  0.2601]], device='mps:0')), ('bias', tensor([0.0054], device='mps:0'))])\n",
      "Epoch [1/20], Step [80/100], Loss: 1.2745, Params: OrderedDict([('weight', tensor([[ 0.2300, -0.0342,  0.0107,  0.4031]], device='mps:0')), ('bias', tensor([0.0316], device='mps:0'))])\n",
      "Epoch [1/20], Step [100/100], Loss: 0.3693, Params: OrderedDict([('weight', tensor([[ 0.3591,  0.0038, -0.0267,  0.5328]], device='mps:0')), ('bias', tensor([0.0242], device='mps:0'))])\n",
      "Epoch [2/20], Step [20/100], Loss: 0.3803, Params: OrderedDict([('weight', tensor([[ 0.4754,  0.0162, -0.0605,  0.6360]], device='mps:0')), ('bias', tensor([0.0092], device='mps:0'))])\n",
      "Epoch [2/20], Step [40/100], Loss: 0.1799, Params: OrderedDict([('weight', tensor([[ 0.5762,  0.0209, -0.0502,  0.7261]], device='mps:0')), ('bias', tensor([-0.0012], device='mps:0'))])\n",
      "Epoch [2/20], Step [60/100], Loss: 0.1844, Params: OrderedDict([('weight', tensor([[ 0.6636,  0.0220, -0.0208,  0.7977]], device='mps:0')), ('bias', tensor([0.0029], device='mps:0'))])\n",
      "Epoch [2/20], Step [80/100], Loss: 0.0884, Params: OrderedDict([('weight', tensor([[0.7337, 0.0250, 0.0039, 0.8547]], device='mps:0')), ('bias', tensor([0.0028], device='mps:0'))])\n",
      "Epoch [2/20], Step [100/100], Loss: 0.0710, Params: OrderedDict([('weight', tensor([[0.7970, 0.0184, 0.0042, 0.8962]], device='mps:0')), ('bias', tensor([0.0056], device='mps:0'))])\n",
      "Epoch [3/20], Step [20/100], Loss: 0.0323, Params: OrderedDict([('weight', tensor([[ 8.4902e-01,  6.3064e-03, -5.5944e-04,  9.2511e-01]], device='mps:0')), ('bias', tensor([-0.0027], device='mps:0'))])\n",
      "Epoch [3/20], Step [40/100], Loss: 0.0257, Params: OrderedDict([('weight', tensor([[ 8.8606e-01,  5.9541e-03, -1.1327e-04,  9.4861e-01]], device='mps:0')), ('bias', tensor([-0.0084], device='mps:0'))])\n",
      "Epoch [3/20], Step [60/100], Loss: 0.0130, Params: OrderedDict([('weight', tensor([[9.1772e-01, 1.0488e-02, 1.6788e-04, 9.6785e-01]], device='mps:0')), ('bias', tensor([0.0033], device='mps:0'))])\n",
      "Epoch [3/20], Step [80/100], Loss: 0.0117, Params: OrderedDict([('weight', tensor([[ 0.9404,  0.0077, -0.0013,  0.9798]], device='mps:0')), ('bias', tensor([0.0080], device='mps:0'))])\n",
      "Epoch [3/20], Step [100/100], Loss: 0.0139, Params: OrderedDict([('weight', tensor([[ 0.9583,  0.0012, -0.0063,  0.9875]], device='mps:0')), ('bias', tensor([3.4881e-06], device='mps:0'))])\n",
      "Epoch [4/20], Step [20/100], Loss: 0.0100, Params: OrderedDict([('weight', tensor([[ 9.7114e-01,  7.4857e-05, -2.7787e-03,  9.9288e-01]], device='mps:0')), ('bias', tensor([4.4643e-05], device='mps:0'))])\n",
      "Epoch [4/20], Step [40/100], Loss: 0.0078, Params: OrderedDict([('weight', tensor([[ 9.7913e-01,  2.8836e-04, -2.7676e-03,  9.9571e-01]], device='mps:0')), ('bias', tensor([-0.0026], device='mps:0'))])\n",
      "Epoch [4/20], Step [60/100], Loss: 0.0107, Params: OrderedDict([('weight', tensor([[9.8592e-01, 4.2091e-04, 2.1579e-04, 9.9671e-01]], device='mps:0')), ('bias', tensor([-0.0017], device='mps:0'))])\n",
      "Epoch [4/20], Step [80/100], Loss: 0.0094, Params: OrderedDict([('weight', tensor([[ 0.9919,  0.0024, -0.0029,  0.9983]], device='mps:0')), ('bias', tensor([0.0015], device='mps:0'))])\n",
      "Epoch [4/20], Step [100/100], Loss: 0.0127, Params: OrderedDict([('weight', tensor([[ 0.9951, -0.0012, -0.0041,  1.0009]], device='mps:0')), ('bias', tensor([-0.0003], device='mps:0'))])\n",
      "Epoch [5/20], Step [20/100], Loss: 0.0102, Params: OrderedDict([('weight', tensor([[ 0.9964, -0.0022, -0.0020,  1.0010]], device='mps:0')), ('bias', tensor([-0.0026], device='mps:0'))])\n",
      "Epoch [5/20], Step [40/100], Loss: 0.0091, Params: OrderedDict([('weight', tensor([[ 0.9977, -0.0011, -0.0022,  0.9996]], device='mps:0')), ('bias', tensor([-0.0018], device='mps:0'))])\n",
      "Epoch [5/20], Step [60/100], Loss: 0.0102, Params: OrderedDict([('weight', tensor([[ 9.9925e-01, -1.6902e-04, -1.5327e-03,  9.9930e-01]], device='mps:0')), ('bias', tensor([-0.0012], device='mps:0'))])\n",
      "Epoch [5/20], Step [80/100], Loss: 0.0072, Params: OrderedDict([('weight', tensor([[ 9.9943e-01, -7.7365e-04,  5.7543e-04,  1.0003e+00]], device='mps:0')), ('bias', tensor([0.0006], device='mps:0'))])\n",
      "Epoch [5/20], Step [100/100], Loss: 0.0098, Params: OrderedDict([('weight', tensor([[ 1.0000,  0.0018, -0.0026,  1.0017]], device='mps:0')), ('bias', tensor([0.0014], device='mps:0'))])\n",
      "Epoch [6/20], Step [20/100], Loss: 0.0084, Params: OrderedDict([('weight', tensor([[ 0.9997, -0.0019, -0.0061,  1.0017]], device='mps:0')), ('bias', tensor([-0.0069], device='mps:0'))])\n",
      "Epoch [6/20], Step [40/100], Loss: 0.0080, Params: OrderedDict([('weight', tensor([[ 1.0004,  0.0013, -0.0054,  1.0013]], device='mps:0')), ('bias', tensor([0.0022], device='mps:0'))])\n",
      "Epoch [6/20], Step [60/100], Loss: 0.0088, Params: OrderedDict([('weight', tensor([[1.0001e+00, 2.8157e-03, 2.3833e-04, 1.0002e+00]], device='mps:0')), ('bias', tensor([0.0023], device='mps:0'))])\n",
      "Epoch [6/20], Step [80/100], Loss: 0.0112, Params: OrderedDict([('weight', tensor([[ 9.9854e-01, -6.9171e-04,  1.8358e-03,  1.0010e+00]], device='mps:0')), ('bias', tensor([0.0014], device='mps:0'))])\n",
      "Epoch [6/20], Step [100/100], Loss: 0.0125, Params: OrderedDict([('weight', tensor([[ 9.9962e-01, -1.3671e-03,  7.5385e-04,  1.0011e+00]], device='mps:0')), ('bias', tensor([-0.0004], device='mps:0'))])\n",
      "Epoch [7/20], Step [20/100], Loss: 0.0092, Params: OrderedDict([('weight', tensor([[ 1.0013e+00, -6.5865e-04,  7.7115e-04,  1.0006e+00]], device='mps:0')), ('bias', tensor([-0.0012], device='mps:0'))])\n",
      "Epoch [7/20], Step [40/100], Loss: 0.0116, Params: OrderedDict([('weight', tensor([[1.0030e+00, 6.9390e-04, 2.6401e-04, 1.0011e+00]], device='mps:0')), ('bias', tensor([-0.0053], device='mps:0'))])\n",
      "Epoch [7/20], Step [60/100], Loss: 0.0067, Params: OrderedDict([('weight', tensor([[1.0009e+00, 7.8134e-04, 3.2970e-04, 1.0013e+00]], device='mps:0')), ('bias', tensor([0.0005], device='mps:0'))])\n",
      "Epoch [7/20], Step [80/100], Loss: 0.0098, Params: OrderedDict([('weight', tensor([[ 0.9995, -0.0018, -0.0050,  1.0007]], device='mps:0')), ('bias', tensor([-0.0032], device='mps:0'))])\n",
      "Epoch [7/20], Step [100/100], Loss: 0.0080, Params: OrderedDict([('weight', tensor([[ 0.9989, -0.0012, -0.0028,  1.0005]], device='mps:0')), ('bias', tensor([0.0019], device='mps:0'))])\n",
      "Epoch [8/20], Step [20/100], Loss: 0.0090, Params: OrderedDict([('weight', tensor([[ 9.9909e-01,  5.8853e-04, -7.3535e-03,  1.0012e+00]], device='mps:0')), ('bias', tensor([0.0040], device='mps:0'))])\n",
      "Epoch [8/20], Step [40/100], Loss: 0.0089, Params: OrderedDict([('weight', tensor([[ 9.9986e-01,  1.1520e-03, -5.3501e-04,  1.0025e+00]], device='mps:0')), ('bias', tensor([-0.0032], device='mps:0'))])\n",
      "Epoch [8/20], Step [60/100], Loss: 0.0100, Params: OrderedDict([('weight', tensor([[ 0.9987, -0.0030,  0.0024,  1.0012]], device='mps:0')), ('bias', tensor([-0.0012], device='mps:0'))])\n",
      "Epoch [8/20], Step [80/100], Loss: 0.0104, Params: OrderedDict([('weight', tensor([[0.9987, 0.0023, 0.0026, 0.9999]], device='mps:0')), ('bias', tensor([-0.0049], device='mps:0'))])\n",
      "Epoch [8/20], Step [100/100], Loss: 0.0109, Params: OrderedDict([('weight', tensor([[ 1.0007e+00,  3.3444e-04, -2.4831e-03,  1.0002e+00]], device='mps:0')), ('bias', tensor([0.0056], device='mps:0'))])\n",
      "Epoch [9/20], Step [20/100], Loss: 0.0073, Params: OrderedDict([('weight', tensor([[ 0.9997, -0.0013, -0.0040,  1.0017]], device='mps:0')), ('bias', tensor([-0.0014], device='mps:0'))])\n",
      "Epoch [9/20], Step [40/100], Loss: 0.0105, Params: OrderedDict([('weight', tensor([[ 1.0005e+00, -1.6882e-03,  9.9285e-05,  1.0009e+00]], device='mps:0')), ('bias', tensor([0.0001], device='mps:0'))])\n",
      "Epoch [9/20], Step [60/100], Loss: 0.0117, Params: OrderedDict([('weight', tensor([[ 1.0016e+00, -3.9423e-03, -2.9018e-04,  9.9808e-01]], device='mps:0')), ('bias', tensor([-0.0006], device='mps:0'))])\n"
     ]
    },
    {
     "name": "stdout",
     "output_type": "stream",
     "text": [
      "Epoch [9/20], Step [80/100], Loss: 0.0086, Params: OrderedDict([('weight', tensor([[ 1.0005e+00,  4.5521e-04, -2.9567e-03,  1.0011e+00]], device='mps:0')), ('bias', tensor([8.4954e-05], device='mps:0'))])\n",
      "Epoch [9/20], Step [100/100], Loss: 0.0100, Params: OrderedDict([('weight', tensor([[ 0.9998,  0.0049, -0.0021,  1.0005]], device='mps:0')), ('bias', tensor([-0.0018], device='mps:0'))])\n",
      "Epoch [10/20], Step [20/100], Loss: 0.0089, Params: OrderedDict([('weight', tensor([[ 9.9990e-01,  5.1948e-04, -1.5743e-03,  1.0004e+00]], device='mps:0')), ('bias', tensor([0.0108], device='mps:0'))])\n",
      "Epoch [10/20], Step [40/100], Loss: 0.0131, Params: OrderedDict([('weight', tensor([[0.9987, 0.0050, 0.0010, 1.0010]], device='mps:0')), ('bias', tensor([-0.0070], device='mps:0'))])\n",
      "Epoch [10/20], Step [60/100], Loss: 0.0094, Params: OrderedDict([('weight', tensor([[ 0.9988, -0.0035, -0.0047,  1.0014]], device='mps:0')), ('bias', tensor([-0.0057], device='mps:0'))])\n",
      "Epoch [10/20], Step [80/100], Loss: 0.0094, Params: OrderedDict([('weight', tensor([[ 0.9985, -0.0027, -0.0031,  1.0013]], device='mps:0')), ('bias', tensor([-0.0019], device='mps:0'))])\n",
      "Epoch [10/20], Step [100/100], Loss: 0.0097, Params: OrderedDict([('weight', tensor([[ 1.0000e+00, -6.5393e-04, -6.7876e-04,  1.0001e+00]], device='mps:0')), ('bias', tensor([-0.0027], device='mps:0'))])\n",
      "Epoch [11/20], Step [20/100], Loss: 0.0112, Params: OrderedDict([('weight', tensor([[ 0.9998, -0.0011,  0.0011,  0.9998]], device='mps:0')), ('bias', tensor([0.0023], device='mps:0'))])\n",
      "Epoch [11/20], Step [40/100], Loss: 0.0095, Params: OrderedDict([('weight', tensor([[ 1.0002,  0.0011, -0.0074,  1.0010]], device='mps:0')), ('bias', tensor([0.0003], device='mps:0'))])\n",
      "Epoch [11/20], Step [60/100], Loss: 0.0118, Params: OrderedDict([('weight', tensor([[ 9.9878e-01, -2.9893e-04,  4.4873e-05,  1.0015e+00]], device='mps:0')), ('bias', tensor([-0.0005], device='mps:0'))])\n",
      "Epoch [11/20], Step [80/100], Loss: 0.0117, Params: OrderedDict([('weight', tensor([[ 1.0008, -0.0037, -0.0013,  1.0014]], device='mps:0')), ('bias', tensor([-0.0036], device='mps:0'))])\n",
      "Epoch [11/20], Step [100/100], Loss: 0.0116, Params: OrderedDict([('weight', tensor([[ 1.0009e+00,  3.1316e-03, -6.8444e-04,  1.0012e+00]], device='mps:0')), ('bias', tensor([0.0006], device='mps:0'))])\n",
      "Epoch [12/20], Step [20/100], Loss: 0.0093, Params: OrderedDict([('weight', tensor([[ 1.0029e+00,  1.5049e-03, -9.0638e-04,  1.0013e+00]], device='mps:0')), ('bias', tensor([-0.0004], device='mps:0'))])\n",
      "Epoch [12/20], Step [40/100], Loss: 0.0088, Params: OrderedDict([('weight', tensor([[ 1.0017, -0.0031,  0.0034,  0.9996]], device='mps:0')), ('bias', tensor([-0.0061], device='mps:0'))])\n",
      "Epoch [12/20], Step [60/100], Loss: 0.0077, Params: OrderedDict([('weight', tensor([[ 1.0003, -0.0029, -0.0067,  1.0001]], device='mps:0')), ('bias', tensor([0.0097], device='mps:0'))])\n",
      "Epoch [12/20], Step [80/100], Loss: 0.0100, Params: OrderedDict([('weight', tensor([[9.9771e-01, 4.1324e-03, 4.0526e-04, 1.0017e+00]], device='mps:0')), ('bias', tensor([-0.0023], device='mps:0'))])\n",
      "Epoch [12/20], Step [100/100], Loss: 0.0137, Params: OrderedDict([('weight', tensor([[ 0.9985, -0.0020, -0.0043,  1.0001]], device='mps:0')), ('bias', tensor([0.0017], device='mps:0'))])\n",
      "Epoch [13/20], Step [20/100], Loss: 0.0109, Params: OrderedDict([('weight', tensor([[ 0.9978,  0.0013, -0.0068,  0.9987]], device='mps:0')), ('bias', tensor([-0.0003], device='mps:0'))])\n",
      "Epoch [13/20], Step [40/100], Loss: 0.0117, Params: OrderedDict([('weight', tensor([[0.9995, 0.0015, 0.0017, 1.0003]], device='mps:0')), ('bias', tensor([0.0072], device='mps:0'))])\n",
      "Epoch [13/20], Step [60/100], Loss: 0.0076, Params: OrderedDict([('weight', tensor([[ 1.0023e+00, -1.1685e-03,  3.2979e-04,  1.0020e+00]], device='mps:0')), ('bias', tensor([-0.0086], device='mps:0'))])\n",
      "Epoch [13/20], Step [80/100], Loss: 0.0100, Params: OrderedDict([('weight', tensor([[1.0026, 0.0012, 0.0040, 1.0025]], device='mps:0')), ('bias', tensor([0.0036], device='mps:0'))])\n",
      "Epoch [13/20], Step [100/100], Loss: 0.0078, Params: OrderedDict([('weight', tensor([[ 1.0007, -0.0021, -0.0069,  1.0010]], device='mps:0')), ('bias', tensor([-0.0011], device='mps:0'))])\n",
      "Epoch [14/20], Step [20/100], Loss: 0.0106, Params: OrderedDict([('weight', tensor([[ 0.9997, -0.0021, -0.0048,  1.0003]], device='mps:0')), ('bias', tensor([0.0035], device='mps:0'))])\n",
      "Epoch [14/20], Step [40/100], Loss: 0.0093, Params: OrderedDict([('weight', tensor([[0.9983, 0.0017, 0.0014, 0.9993]], device='mps:0')), ('bias', tensor([-0.0004], device='mps:0'))])\n",
      "Epoch [14/20], Step [60/100], Loss: 0.0140, Params: OrderedDict([('weight', tensor([[ 9.9778e-01, -6.9385e-04, -1.4802e-03,  9.9821e-01]], device='mps:0')), ('bias', tensor([-0.0013], device='mps:0'))])\n",
      "Epoch [14/20], Step [80/100], Loss: 0.0111, Params: OrderedDict([('weight', tensor([[ 9.9943e-01,  1.7443e-03, -6.3922e-04,  1.0001e+00]], device='mps:0')), ('bias', tensor([-0.0002], device='mps:0'))])\n",
      "Epoch [14/20], Step [100/100], Loss: 0.0098, Params: OrderedDict([('weight', tensor([[ 1.0021,  0.0015, -0.0056,  1.0031]], device='mps:0')), ('bias', tensor([0.0023], device='mps:0'))])\n",
      "Epoch [15/20], Step [20/100], Loss: 0.0110, Params: OrderedDict([('weight', tensor([[ 1.0010e+00, -1.5218e-03,  5.6499e-04,  1.0041e+00]], device='mps:0')), ('bias', tensor([0.0020], device='mps:0'))])\n",
      "Epoch [15/20], Step [40/100], Loss: 0.0120, Params: OrderedDict([('weight', tensor([[ 1.0017e+00,  6.0429e-03, -5.7242e-04,  1.0018e+00]], device='mps:0')), ('bias', tensor([-0.0078], device='mps:0'))])\n",
      "Epoch [15/20], Step [60/100], Loss: 0.0108, Params: OrderedDict([('weight', tensor([[ 1.0010e+00, -4.1276e-04, -1.5763e-03,  9.9932e-01]], device='mps:0')), ('bias', tensor([-0.0005], device='mps:0'))])\n",
      "Epoch [15/20], Step [80/100], Loss: 0.0104, Params: OrderedDict([('weight', tensor([[ 1.0006, -0.0057, -0.0053,  0.9985]], device='mps:0')), ('bias', tensor([-0.0008], device='mps:0'))])\n",
      "Epoch [15/20], Step [100/100], Loss: 0.0087, Params: OrderedDict([('weight', tensor([[ 9.9891e-01, -5.7691e-04, -1.1850e-03,  1.0023e+00]], device='mps:0')), ('bias', tensor([0.0051], device='mps:0'))])\n",
      "Epoch [16/20], Step [20/100], Loss: 0.0121, Params: OrderedDict([('weight', tensor([[ 0.9985,  0.0035, -0.0030,  1.0024]], device='mps:0')), ('bias', tensor([0.0044], device='mps:0'))])\n",
      "Epoch [16/20], Step [40/100], Loss: 0.0092, Params: OrderedDict([('weight', tensor([[9.9763e-01, 3.0814e-04, 1.4490e-03, 1.0010e+00]], device='mps:0')), ('bias', tensor([-0.0082], device='mps:0'))])\n",
      "Epoch [16/20], Step [60/100], Loss: 0.0126, Params: OrderedDict([('weight', tensor([[ 1.0009, -0.0019, -0.0037,  1.0010]], device='mps:0')), ('bias', tensor([0.0057], device='mps:0'))])\n",
      "Epoch [16/20], Step [80/100], Loss: 0.0090, Params: OrderedDict([('weight', tensor([[ 1.0004,  0.0022, -0.0025,  1.0018]], device='mps:0')), ('bias', tensor([-0.0055], device='mps:0'))])\n",
      "Epoch [16/20], Step [100/100], Loss: 0.0122, Params: OrderedDict([('weight', tensor([[ 1.0007, -0.0015, -0.0033,  0.9996]], device='mps:0')), ('bias', tensor([-0.0015], device='mps:0'))])\n",
      "Epoch [17/20], Step [20/100], Loss: 0.0105, Params: OrderedDict([('weight', tensor([[ 9.9880e-01, -5.5749e-04, -1.0082e-03,  9.9907e-01]], device='mps:0')), ('bias', tensor([-0.0071], device='mps:0'))])\n",
      "Epoch [17/20], Step [40/100], Loss: 0.0122, Params: OrderedDict([('weight', tensor([[ 1.0025,  0.0028, -0.0032,  1.0005]], device='mps:0')), ('bias', tensor([0.0061], device='mps:0'))])\n",
      "Epoch [17/20], Step [60/100], Loss: 0.0058, Params: OrderedDict([('weight', tensor([[ 1.0030, -0.0040, -0.0016,  1.0008]], device='mps:0')), ('bias', tensor([-0.0028], device='mps:0'))])\n",
      "Epoch [17/20], Step [80/100], Loss: 0.0109, Params: OrderedDict([('weight', tensor([[ 1.0019e+00, -5.3459e-03, -7.9720e-04,  1.0008e+00]], device='mps:0')), ('bias', tensor([-0.0090], device='mps:0'))])\n",
      "Epoch [17/20], Step [100/100], Loss: 0.0084, Params: OrderedDict([('weight', tensor([[ 0.9969,  0.0091, -0.0018,  0.9999]], device='mps:0')), ('bias', tensor([0.0052], device='mps:0'))])\n",
      "Epoch [18/20], Step [20/100], Loss: 0.0119, Params: OrderedDict([('weight', tensor([[ 0.9977,  0.0045, -0.0070,  1.0017]], device='mps:0')), ('bias', tensor([0.0024], device='mps:0'))])\n"
     ]
    },
    {
     "name": "stdout",
     "output_type": "stream",
     "text": [
      "Epoch [18/20], Step [40/100], Loss: 0.0136, Params: OrderedDict([('weight', tensor([[0.9983, 0.0013, 0.0053, 1.0018]], device='mps:0')), ('bias', tensor([0.0008], device='mps:0'))])\n",
      "Epoch [18/20], Step [60/100], Loss: 0.0114, Params: OrderedDict([('weight', tensor([[ 9.9896e-01, -1.3201e-03,  4.6454e-04,  9.9966e-01]], device='mps:0')), ('bias', tensor([0.0042], device='mps:0'))])\n",
      "Epoch [18/20], Step [80/100], Loss: 0.0099, Params: OrderedDict([('weight', tensor([[ 1.0017e+00,  9.2280e-04, -6.9563e-03,  1.0005e+00]], device='mps:0')), ('bias', tensor([-0.0142], device='mps:0'))])\n",
      "Epoch [18/20], Step [100/100], Loss: 0.0107, Params: OrderedDict([('weight', tensor([[ 1.0014, -0.0010,  0.0041,  0.9995]], device='mps:0')), ('bias', tensor([0.0051], device='mps:0'))])\n",
      "Epoch [19/20], Step [20/100], Loss: 0.0119, Params: OrderedDict([('weight', tensor([[ 1.0002, -0.0017, -0.0033,  0.9998]], device='mps:0')), ('bias', tensor([-0.0003], device='mps:0'))])\n",
      "Epoch [19/20], Step [40/100], Loss: 0.0073, Params: OrderedDict([('weight', tensor([[ 9.9839e-01, -8.7936e-05,  1.3200e-03,  1.0005e+00]], device='mps:0')), ('bias', tensor([-0.0004], device='mps:0'))])\n",
      "Epoch [19/20], Step [60/100], Loss: 0.0085, Params: OrderedDict([('weight', tensor([[1.0014, 0.0023, 0.0027, 1.0017]], device='mps:0')), ('bias', tensor([-0.0045], device='mps:0'))])\n",
      "Epoch [19/20], Step [80/100], Loss: 0.0090, Params: OrderedDict([('weight', tensor([[ 1.0023, -0.0020, -0.0024,  1.0036]], device='mps:0')), ('bias', tensor([0.0042], device='mps:0'))])\n",
      "Epoch [19/20], Step [100/100], Loss: 0.0120, Params: OrderedDict([('weight', tensor([[ 1.0008,  0.0026, -0.0034,  0.9990]], device='mps:0')), ('bias', tensor([-0.0059], device='mps:0'))])\n",
      "Epoch [20/20], Step [20/100], Loss: 0.0088, Params: OrderedDict([('weight', tensor([[0.9995, 0.0029, 0.0011, 0.9954]], device='mps:0')), ('bias', tensor([0.0017], device='mps:0'))])\n",
      "Epoch [20/20], Step [40/100], Loss: 0.0102, Params: OrderedDict([('weight', tensor([[ 0.9982,  0.0039, -0.0016,  1.0011]], device='mps:0')), ('bias', tensor([0.0050], device='mps:0'))])\n",
      "Epoch [20/20], Step [60/100], Loss: 0.0102, Params: OrderedDict([('weight', tensor([[ 0.9987, -0.0054, -0.0023,  1.0042]], device='mps:0')), ('bias', tensor([-0.0030], device='mps:0'))])\n",
      "Epoch [20/20], Step [80/100], Loss: 0.0135, Params: OrderedDict([('weight', tensor([[ 1.0009, -0.0033, -0.0038,  1.0009]], device='mps:0')), ('bias', tensor([0.0021], device='mps:0'))])\n",
      "Epoch [20/20], Step [100/100], Loss: 0.0073, Params: OrderedDict([('weight', tensor([[ 1.0020e+00,  1.7374e-03, -5.7140e-04,  1.0008e+00]], device='mps:0')), ('bias', tensor([-0.0019], device='mps:0'))])\n"
     ]
    }
   ],
   "source": [
    "train_model(model_linear, train_dataloader, n_epochs, loss_fn, optimizer_linear, device)"
   ]
  },
  {
   "cell_type": "code",
   "execution_count": 23,
   "id": "5635b476",
   "metadata": {
    "scrolled": true
   },
   "outputs": [
    {
     "name": "stdout",
     "output_type": "stream",
     "text": [
      "Epoch [1/20], Step [20/100], Loss: 4.1122, Params: OrderedDict([('lambda1', tensor(-0.6268))])\n",
      "Epoch [1/20], Step [40/100], Loss: 6.3064, Params: OrderedDict([('lambda1', tensor(-0.4482))])\n",
      "Epoch [1/20], Step [60/100], Loss: 4.6415, Params: OrderedDict([('lambda1', tensor(-0.2722))])\n",
      "Epoch [1/20], Step [80/100], Loss: 1.3939, Params: OrderedDict([('lambda1', tensor(-0.1125))])\n",
      "Epoch [1/20], Step [100/100], Loss: 1.8529, Params: OrderedDict([('lambda1', tensor(0.0395))])\n",
      "Epoch [2/20], Step [20/100], Loss: 1.9431, Params: OrderedDict([('lambda1', tensor(0.1812))])\n",
      "Epoch [2/20], Step [40/100], Loss: 0.6626, Params: OrderedDict([('lambda1', tensor(0.3115))])\n",
      "Epoch [2/20], Step [60/100], Loss: 0.7677, Params: OrderedDict([('lambda1', tensor(0.4217))])\n",
      "Epoch [2/20], Step [80/100], Loss: 0.5793, Params: OrderedDict([('lambda1', tensor(0.5136))])\n",
      "Epoch [2/20], Step [100/100], Loss: 0.4147, Params: OrderedDict([('lambda1', tensor(0.5974))])\n",
      "Epoch [3/20], Step [20/100], Loss: 0.2439, Params: OrderedDict([('lambda1', tensor(0.6685))])\n",
      "Epoch [3/20], Step [40/100], Loss: 0.1333, Params: OrderedDict([('lambda1', tensor(0.7338))])\n",
      "Epoch [3/20], Step [60/100], Loss: 0.1161, Params: OrderedDict([('lambda1', tensor(0.7880))])\n",
      "Epoch [3/20], Step [80/100], Loss: 0.0801, Params: OrderedDict([('lambda1', tensor(0.8295))])\n",
      "Epoch [3/20], Step [100/100], Loss: 0.0511, Params: OrderedDict([('lambda1', tensor(0.8682))])\n",
      "Epoch [4/20], Step [20/100], Loss: 0.0147, Params: OrderedDict([('lambda1', tensor(0.9003))])\n",
      "Epoch [4/20], Step [40/100], Loss: 0.0194, Params: OrderedDict([('lambda1', tensor(0.9245))])\n",
      "Epoch [4/20], Step [60/100], Loss: 0.0279, Params: OrderedDict([('lambda1', tensor(0.9423))])\n",
      "Epoch [4/20], Step [80/100], Loss: 0.0127, Params: OrderedDict([('lambda1', tensor(0.9572))])\n",
      "Epoch [4/20], Step [100/100], Loss: 0.0136, Params: OrderedDict([('lambda1', tensor(0.9682))])\n",
      "Epoch [5/20], Step [20/100], Loss: 0.0126, Params: OrderedDict([('lambda1', tensor(0.9767))])\n",
      "Epoch [5/20], Step [40/100], Loss: 0.0064, Params: OrderedDict([('lambda1', tensor(0.9825))])\n",
      "Epoch [5/20], Step [60/100], Loss: 0.0096, Params: OrderedDict([('lambda1', tensor(0.9876))])\n",
      "Epoch [5/20], Step [80/100], Loss: 0.0117, Params: OrderedDict([('lambda1', tensor(0.9912))])\n",
      "Epoch [5/20], Step [100/100], Loss: 0.0109, Params: OrderedDict([('lambda1', tensor(0.9940))])\n",
      "Epoch [6/20], Step [20/100], Loss: 0.0075, Params: OrderedDict([('lambda1', tensor(0.9957))])\n",
      "Epoch [6/20], Step [40/100], Loss: 0.0082, Params: OrderedDict([('lambda1', tensor(0.9973))])\n",
      "Epoch [6/20], Step [60/100], Loss: 0.0083, Params: OrderedDict([('lambda1', tensor(0.9987))])\n",
      "Epoch [6/20], Step [80/100], Loss: 0.0099, Params: OrderedDict([('lambda1', tensor(0.9988))])\n",
      "Epoch [6/20], Step [100/100], Loss: 0.0092, Params: OrderedDict([('lambda1', tensor(0.9996))])\n",
      "Epoch [7/20], Step [20/100], Loss: 0.0094, Params: OrderedDict([('lambda1', tensor(1.0003))])\n",
      "Epoch [7/20], Step [40/100], Loss: 0.0112, Params: OrderedDict([('lambda1', tensor(1.0005))])\n",
      "Epoch [7/20], Step [60/100], Loss: 0.0119, Params: OrderedDict([('lambda1', tensor(1.0008))])\n",
      "Epoch [7/20], Step [80/100], Loss: 0.0115, Params: OrderedDict([('lambda1', tensor(1.0010))])\n",
      "Epoch [7/20], Step [100/100], Loss: 0.0135, Params: OrderedDict([('lambda1', tensor(1.0001))])\n",
      "Epoch [8/20], Step [20/100], Loss: 0.0096, Params: OrderedDict([('lambda1', tensor(0.9995))])\n",
      "Epoch [8/20], Step [40/100], Loss: 0.0087, Params: OrderedDict([('lambda1', tensor(1.0004))])\n",
      "Epoch [8/20], Step [60/100], Loss: 0.0148, Params: OrderedDict([('lambda1', tensor(1.0006))])\n",
      "Epoch [8/20], Step [80/100], Loss: 0.0103, Params: OrderedDict([('lambda1', tensor(1.0006))])\n",
      "Epoch [8/20], Step [100/100], Loss: 0.0068, Params: OrderedDict([('lambda1', tensor(1.0003))])\n",
      "Epoch [9/20], Step [20/100], Loss: 0.0088, Params: OrderedDict([('lambda1', tensor(0.9999))])\n",
      "Epoch [9/20], Step [40/100], Loss: 0.0135, Params: OrderedDict([('lambda1', tensor(0.9992))])\n",
      "Epoch [9/20], Step [60/100], Loss: 0.0090, Params: OrderedDict([('lambda1', tensor(0.9998))])\n",
      "Epoch [9/20], Step [80/100], Loss: 0.0080, Params: OrderedDict([('lambda1', tensor(1.0005))])\n",
      "Epoch [9/20], Step [100/100], Loss: 0.0087, Params: OrderedDict([('lambda1', tensor(1.0007))])\n",
      "Epoch [10/20], Step [20/100], Loss: 0.0090, Params: OrderedDict([('lambda1', tensor(1.0007))])\n",
      "Epoch [10/20], Step [40/100], Loss: 0.0117, Params: OrderedDict([('lambda1', tensor(1.0009))])\n",
      "Epoch [10/20], Step [60/100], Loss: 0.0103, Params: OrderedDict([('lambda1', tensor(1.0000))])\n",
      "Epoch [10/20], Step [80/100], Loss: 0.0088, Params: OrderedDict([('lambda1', tensor(1.0006))])\n",
      "Epoch [10/20], Step [100/100], Loss: 0.0095, Params: OrderedDict([('lambda1', tensor(1.0009))])\n",
      "Epoch [11/20], Step [20/100], Loss: 0.0120, Params: OrderedDict([('lambda1', tensor(0.9998))])\n",
      "Epoch [11/20], Step [40/100], Loss: 0.0095, Params: OrderedDict([('lambda1', tensor(0.9987))])\n",
      "Epoch [11/20], Step [60/100], Loss: 0.0113, Params: OrderedDict([('lambda1', tensor(0.9997))])\n",
      "Epoch [11/20], Step [80/100], Loss: 0.0115, Params: OrderedDict([('lambda1', tensor(1.0015))])\n",
      "Epoch [11/20], Step [100/100], Loss: 0.0066, Params: OrderedDict([('lambda1', tensor(1.0016))])\n",
      "Epoch [12/20], Step [20/100], Loss: 0.0100, Params: OrderedDict([('lambda1', tensor(1.0016))])\n",
      "Epoch [12/20], Step [40/100], Loss: 0.0071, Params: OrderedDict([('lambda1', tensor(1.0022))])\n",
      "Epoch [12/20], Step [60/100], Loss: 0.0105, Params: OrderedDict([('lambda1', tensor(1.0009))])\n",
      "Epoch [12/20], Step [80/100], Loss: 0.0081, Params: OrderedDict([('lambda1', tensor(1.0003))])\n",
      "Epoch [12/20], Step [100/100], Loss: 0.0113, Params: OrderedDict([('lambda1', tensor(0.9995))])\n",
      "Epoch [13/20], Step [20/100], Loss: 0.0096, Params: OrderedDict([('lambda1', tensor(0.9999))])\n",
      "Epoch [13/20], Step [40/100], Loss: 0.0083, Params: OrderedDict([('lambda1', tensor(0.9995))])\n",
      "Epoch [13/20], Step [60/100], Loss: 0.0108, Params: OrderedDict([('lambda1', tensor(0.9999))])\n",
      "Epoch [13/20], Step [80/100], Loss: 0.0086, Params: OrderedDict([('lambda1', tensor(1.0004))])\n",
      "Epoch [13/20], Step [100/100], Loss: 0.0136, Params: OrderedDict([('lambda1', tensor(1.0004))])\n",
      "Epoch [14/20], Step [20/100], Loss: 0.0096, Params: OrderedDict([('lambda1', tensor(0.9995))])\n",
      "Epoch [14/20], Step [40/100], Loss: 0.0104, Params: OrderedDict([('lambda1', tensor(1.0007))])\n",
      "Epoch [14/20], Step [60/100], Loss: 0.0081, Params: OrderedDict([('lambda1', tensor(1.0003))])\n",
      "Epoch [14/20], Step [80/100], Loss: 0.0121, Params: OrderedDict([('lambda1', tensor(0.9990))])\n",
      "Epoch [14/20], Step [100/100], Loss: 0.0095, Params: OrderedDict([('lambda1', tensor(1.0003))])\n",
      "Epoch [15/20], Step [20/100], Loss: 0.0096, Params: OrderedDict([('lambda1', tensor(1.0017))])\n",
      "Epoch [15/20], Step [40/100], Loss: 0.0095, Params: OrderedDict([('lambda1', tensor(1.0019))])\n",
      "Epoch [15/20], Step [60/100], Loss: 0.0120, Params: OrderedDict([('lambda1', tensor(1.0018))])\n",
      "Epoch [15/20], Step [80/100], Loss: 0.0108, Params: OrderedDict([('lambda1', tensor(1.0003))])\n",
      "Epoch [15/20], Step [100/100], Loss: 0.0111, Params: OrderedDict([('lambda1', tensor(0.9990))])\n",
      "Epoch [16/20], Step [20/100], Loss: 0.0125, Params: OrderedDict([('lambda1', tensor(0.9989))])\n",
      "Epoch [16/20], Step [40/100], Loss: 0.0091, Params: OrderedDict([('lambda1', tensor(0.9994))])\n",
      "Epoch [16/20], Step [60/100], Loss: 0.0081, Params: OrderedDict([('lambda1', tensor(1.0012))])\n",
      "Epoch [16/20], Step [80/100], Loss: 0.0087, Params: OrderedDict([('lambda1', tensor(1.0011))])\n",
      "Epoch [16/20], Step [100/100], Loss: 0.0078, Params: OrderedDict([('lambda1', tensor(1.0003))])\n",
      "Epoch [17/20], Step [20/100], Loss: 0.0094, Params: OrderedDict([('lambda1', tensor(1.0013))])\n",
      "Epoch [17/20], Step [40/100], Loss: 0.0113, Params: OrderedDict([('lambda1', tensor(1.0019))])\n",
      "Epoch [17/20], Step [60/100], Loss: 0.0094, Params: OrderedDict([('lambda1', tensor(1.0007))])\n",
      "Epoch [17/20], Step [80/100], Loss: 0.0078, Params: OrderedDict([('lambda1', tensor(0.9997))])\n",
      "Epoch [17/20], Step [100/100], Loss: 0.0101, Params: OrderedDict([('lambda1', tensor(0.9994))])\n",
      "Epoch [18/20], Step [20/100], Loss: 0.0101, Params: OrderedDict([('lambda1', tensor(1.0001))])\n",
      "Epoch [18/20], Step [40/100], Loss: 0.0121, Params: OrderedDict([('lambda1', tensor(1.0004))])\n"
     ]
    },
    {
     "name": "stdout",
     "output_type": "stream",
     "text": [
      "Epoch [18/20], Step [60/100], Loss: 0.0086, Params: OrderedDict([('lambda1', tensor(1.0001))])\n",
      "Epoch [18/20], Step [80/100], Loss: 0.0145, Params: OrderedDict([('lambda1', tensor(0.9993))])\n",
      "Epoch [18/20], Step [100/100], Loss: 0.0122, Params: OrderedDict([('lambda1', tensor(1.0009))])\n",
      "Epoch [19/20], Step [20/100], Loss: 0.0092, Params: OrderedDict([('lambda1', tensor(1.0019))])\n",
      "Epoch [19/20], Step [40/100], Loss: 0.0093, Params: OrderedDict([('lambda1', tensor(1.0016))])\n",
      "Epoch [19/20], Step [60/100], Loss: 0.0087, Params: OrderedDict([('lambda1', tensor(0.9999))])\n",
      "Epoch [19/20], Step [80/100], Loss: 0.0109, Params: OrderedDict([('lambda1', tensor(0.9988))])\n",
      "Epoch [19/20], Step [100/100], Loss: 0.0108, Params: OrderedDict([('lambda1', tensor(1.0002))])\n",
      "Epoch [20/20], Step [20/100], Loss: 0.0091, Params: OrderedDict([('lambda1', tensor(0.9995))])\n",
      "Epoch [20/20], Step [40/100], Loss: 0.0149, Params: OrderedDict([('lambda1', tensor(1.0006))])\n",
      "Epoch [20/20], Step [60/100], Loss: 0.0119, Params: OrderedDict([('lambda1', tensor(0.9995))])\n",
      "Epoch [20/20], Step [80/100], Loss: 0.0070, Params: OrderedDict([('lambda1', tensor(1.0000))])\n",
      "Epoch [20/20], Step [100/100], Loss: 0.0097, Params: OrderedDict([('lambda1', tensor(1.0008))])\n"
     ]
    }
   ],
   "source": [
    "train_model(model_Orth_layer, train_dataloader, n_epochs, loss_fn, optimizer_Orth_layer, device)"
   ]
  },
  {
   "cell_type": "code",
   "execution_count": 24,
   "id": "03b41c84",
   "metadata": {},
   "outputs": [
    {
     "name": "stdout",
     "output_type": "stream",
     "text": [
      "Epoch [1/20], Step [20/100], Loss: 1.9416, Params: OrderedDict([('layer1.lambda1', tensor(0.6559)), ('layer1.lambda2', tensor(-0.1849)), ('layer1.lambda3', tensor(0.0296)), ('layer2.lambda1', tensor(1.4587)), ('layer2.lambda2', tensor(-0.0221)), ('layer2.lambda3', tensor(-0.5028)), ('layer3.lambda1', tensor(1.6413))])\n",
      "Epoch [1/20], Step [40/100], Loss: 2.1068, Params: OrderedDict([('layer1.lambda1', tensor(0.6000)), ('layer1.lambda2', tensor(-0.2213)), ('layer1.lambda3', tensor(-0.0170)), ('layer2.lambda1', tensor(1.4027)), ('layer2.lambda2', tensor(-0.0585)), ('layer2.lambda3', tensor(-0.5493)), ('layer3.lambda1', tensor(1.4760))])\n",
      "Epoch [1/20], Step [60/100], Loss: 0.7807, Params: OrderedDict([('layer1.lambda1', tensor(0.6190)), ('layer1.lambda2', tensor(-0.2393)), ('layer1.lambda3', tensor(-0.0571)), ('layer2.lambda1', tensor(1.4218)), ('layer2.lambda2', tensor(-0.0765)), ('layer2.lambda3', tensor(-0.5895)), ('layer3.lambda1', tensor(1.3331))])\n",
      "Epoch [1/20], Step [80/100], Loss: 1.3886, Params: OrderedDict([('layer1.lambda1', tensor(0.5966)), ('layer1.lambda2', tensor(-0.2884)), ('layer1.lambda3', tensor(-0.1066)), ('layer2.lambda1', tensor(1.3994)), ('layer2.lambda2', tensor(-0.1256)), ('layer2.lambda3', tensor(-0.6389)), ('layer3.lambda1', tensor(1.2198))])\n",
      "Epoch [1/20], Step [100/100], Loss: 1.1771, Params: OrderedDict([('layer1.lambda1', tensor(0.5742)), ('layer1.lambda2', tensor(-0.3541)), ('layer1.lambda3', tensor(-0.1775)), ('layer2.lambda1', tensor(1.3769)), ('layer2.lambda2', tensor(-0.1913)), ('layer2.lambda3', tensor(-0.7098)), ('layer3.lambda1', tensor(1.1372))])\n",
      "Epoch [2/20], Step [20/100], Loss: 1.4926, Params: OrderedDict([('layer1.lambda1', tensor(0.5470)), ('layer1.lambda2', tensor(-0.3609)), ('layer1.lambda3', tensor(-0.1898)), ('layer2.lambda1', tensor(1.3497)), ('layer2.lambda2', tensor(-0.1981)), ('layer2.lambda3', tensor(-0.7222)), ('layer3.lambda1', tensor(1.0839))])\n",
      "Epoch [2/20], Step [40/100], Loss: 0.7218, Params: OrderedDict([('layer1.lambda1', tensor(0.4952)), ('layer1.lambda2', tensor(-0.4239)), ('layer1.lambda3', tensor(-0.2836)), ('layer2.lambda1', tensor(1.2979)), ('layer2.lambda2', tensor(-0.2611)), ('layer2.lambda3', tensor(-0.8160)), ('layer3.lambda1', tensor(1.0462))])\n",
      "Epoch [2/20], Step [60/100], Loss: 1.8966, Params: OrderedDict([('layer1.lambda1', tensor(0.4223)), ('layer1.lambda2', tensor(-0.4995)), ('layer1.lambda3', tensor(-0.3644)), ('layer2.lambda1', tensor(1.2251)), ('layer2.lambda2', tensor(-0.3367)), ('layer2.lambda3', tensor(-0.8968)), ('layer3.lambda1', tensor(1.0236))])\n",
      "Epoch [2/20], Step [80/100], Loss: 1.1505, Params: OrderedDict([('layer1.lambda1', tensor(0.3409)), ('layer1.lambda2', tensor(-0.6172)), ('layer1.lambda3', tensor(-0.4123)), ('layer2.lambda1', tensor(1.1437)), ('layer2.lambda2', tensor(-0.4544)), ('layer2.lambda3', tensor(-0.9446)), ('layer3.lambda1', tensor(1.0114))])\n",
      "Epoch [2/20], Step [100/100], Loss: 0.8560, Params: OrderedDict([('layer1.lambda1', tensor(0.2914)), ('layer1.lambda2', tensor(-0.6903)), ('layer1.lambda3', tensor(-0.4358)), ('layer2.lambda1', tensor(1.0941)), ('layer2.lambda2', tensor(-0.5274)), ('layer2.lambda3', tensor(-0.9681)), ('layer3.lambda1', tensor(1.0053))])\n",
      "Epoch [3/20], Step [20/100], Loss: 1.4394, Params: OrderedDict([('layer1.lambda1', tensor(0.3182)), ('layer1.lambda2', tensor(-0.7308)), ('layer1.lambda3', tensor(-0.4333)), ('layer2.lambda1', tensor(1.1209)), ('layer2.lambda2', tensor(-0.5680)), ('layer2.lambda3', tensor(-0.9656)), ('layer3.lambda1', tensor(1.0045))])\n",
      "Epoch [3/20], Step [40/100], Loss: 1.7109, Params: OrderedDict([('layer1.lambda1', tensor(0.3571)), ('layer1.lambda2', tensor(-0.7999)), ('layer1.lambda3', tensor(-0.4343)), ('layer2.lambda1', tensor(1.1599)), ('layer2.lambda2', tensor(-0.6371)), ('layer2.lambda3', tensor(-0.9666)), ('layer3.lambda1', tensor(1.0042))])\n",
      "Epoch [3/20], Step [60/100], Loss: 0.5696, Params: OrderedDict([('layer1.lambda1', tensor(0.3298)), ('layer1.lambda2', tensor(-0.8649)), ('layer1.lambda3', tensor(-0.4664)), ('layer2.lambda1', tensor(1.1325)), ('layer2.lambda2', tensor(-0.7021)), ('layer2.lambda3', tensor(-0.9988)), ('layer3.lambda1', tensor(1.0024))])\n",
      "Epoch [3/20], Step [80/100], Loss: 0.6304, Params: OrderedDict([('layer1.lambda1', tensor(0.2844)), ('layer1.lambda2', tensor(-0.9178)), ('layer1.lambda3', tensor(-0.4717)), ('layer2.lambda1', tensor(1.0871)), ('layer2.lambda2', tensor(-0.7550)), ('layer2.lambda3', tensor(-1.0040)), ('layer3.lambda1', tensor(1.0005))])\n",
      "Epoch [3/20], Step [100/100], Loss: 0.8919, Params: OrderedDict([('layer1.lambda1', tensor(0.2456)), ('layer1.lambda2', tensor(-0.9801)), ('layer1.lambda3', tensor(-0.5018)), ('layer2.lambda1', tensor(1.0483)), ('layer2.lambda2', tensor(-0.8173)), ('layer2.lambda3', tensor(-1.0341)), ('layer3.lambda1', tensor(0.9994))])\n",
      "Epoch [4/20], Step [20/100], Loss: 1.9179, Params: OrderedDict([('layer1.lambda1', tensor(0.1824)), ('layer1.lambda2', tensor(-1.0264)), ('layer1.lambda3', tensor(-0.5417)), ('layer2.lambda1', tensor(0.9851)), ('layer2.lambda2', tensor(-0.8636)), ('layer2.lambda3', tensor(-1.0740)), ('layer3.lambda1', tensor(1.0008))])\n",
      "Epoch [4/20], Step [40/100], Loss: 0.7971, Params: OrderedDict([('layer1.lambda1', tensor(0.1436)), ('layer1.lambda2', tensor(-1.1284)), ('layer1.lambda3', tensor(-0.6137)), ('layer2.lambda1', tensor(0.9464)), ('layer2.lambda2', tensor(-0.9655)), ('layer2.lambda3', tensor(-1.1460)), ('layer3.lambda1', tensor(1.0002))])\n",
      "Epoch [4/20], Step [60/100], Loss: 0.7796, Params: OrderedDict([('layer1.lambda1', tensor(0.1213)), ('layer1.lambda2', tensor(-1.2328)), ('layer1.lambda3', tensor(-0.6927)), ('layer2.lambda1', tensor(0.9241)), ('layer2.lambda2', tensor(-1.0700)), ('layer2.lambda3', tensor(-1.2251)), ('layer3.lambda1', tensor(0.9992))])\n",
      "Epoch [4/20], Step [80/100], Loss: 0.8341, Params: OrderedDict([('layer1.lambda1', tensor(0.0883)), ('layer1.lambda2', tensor(-1.2654)), ('layer1.lambda3', tensor(-0.6325)), ('layer2.lambda1', tensor(0.8910)), ('layer2.lambda2', tensor(-1.1026)), ('layer2.lambda3', tensor(-1.1648)), ('layer3.lambda1', tensor(1.0008))])\n",
      "Epoch [4/20], Step [100/100], Loss: 1.2676, Params: OrderedDict([('layer1.lambda1', tensor(0.0700)), ('layer1.lambda2', tensor(-1.2990)), ('layer1.lambda3', tensor(-0.6463)), ('layer2.lambda1', tensor(0.8727)), ('layer2.lambda2', tensor(-1.1362)), ('layer2.lambda3', tensor(-1.1787)), ('layer3.lambda1', tensor(1.0037))])\n",
      "Epoch [5/20], Step [20/100], Loss: 0.8342, Params: OrderedDict([('layer1.lambda1', tensor(0.0563)), ('layer1.lambda2', tensor(-1.3093)), ('layer1.lambda3', tensor(-0.6438)), ('layer2.lambda1', tensor(0.8590)), ('layer2.lambda2', tensor(-1.1465)), ('layer2.lambda3', tensor(-1.1762)), ('layer3.lambda1', tensor(1.0027))])\n",
      "Epoch [5/20], Step [40/100], Loss: 0.8101, Params: OrderedDict([('layer1.lambda1', tensor(0.0757)), ('layer1.lambda2', tensor(-1.2759)), ('layer1.lambda3', tensor(-0.6316)), ('layer2.lambda1', tensor(0.8784)), ('layer2.lambda2', tensor(-1.1130)), ('layer2.lambda3', tensor(-1.1639)), ('layer3.lambda1', tensor(1.0021))])\n",
      "Epoch [5/20], Step [60/100], Loss: 0.6637, Params: OrderedDict([('layer1.lambda1', tensor(0.0310)), ('layer1.lambda2', tensor(-1.3284)), ('layer1.lambda3', tensor(-0.6612)), ('layer2.lambda1', tensor(0.8337)), ('layer2.lambda2', tensor(-1.1656)), ('layer2.lambda3', tensor(-1.1936)), ('layer3.lambda1', tensor(1.0012))])\n",
      "Epoch [5/20], Step [80/100], Loss: 0.6793, Params: OrderedDict([('layer1.lambda1', tensor(-0.0376)), ('layer1.lambda2', tensor(-1.4008)), ('layer1.lambda3', tensor(-0.7169)), ('layer2.lambda1', tensor(0.7651)), ('layer2.lambda2', tensor(-1.2380)), ('layer2.lambda3', tensor(-1.2492)), ('layer3.lambda1', tensor(1.0003))])\n",
      "Epoch [5/20], Step [100/100], Loss: 1.4184, Params: OrderedDict([('layer1.lambda1', tensor(-0.0645)), ('layer1.lambda2', tensor(-1.4401)), ('layer1.lambda3', tensor(-0.7176)), ('layer2.lambda1', tensor(0.7382)), ('layer2.lambda2', tensor(-1.2773)), ('layer2.lambda3', tensor(-1.2499)), ('layer3.lambda1', tensor(1.0012))])\n",
      "Epoch [6/20], Step [20/100], Loss: 0.7249, Params: OrderedDict([('layer1.lambda1', tensor(-0.0848)), ('layer1.lambda2', tensor(-1.4814)), ('layer1.lambda3', tensor(-0.7415)), ('layer2.lambda1', tensor(0.7179)), ('layer2.lambda2', tensor(-1.3186)), ('layer2.lambda3', tensor(-1.2738)), ('layer3.lambda1', tensor(1.0024))])\n"
     ]
    },
    {
     "name": "stdout",
     "output_type": "stream",
     "text": [
      "Epoch [6/20], Step [40/100], Loss: 1.1319, Params: OrderedDict([('layer1.lambda1', tensor(-0.0987)), ('layer1.lambda2', tensor(-1.5667)), ('layer1.lambda3', tensor(-0.7981)), ('layer2.lambda1', tensor(0.7040)), ('layer2.lambda2', tensor(-1.4039)), ('layer2.lambda3', tensor(-1.3304)), ('layer3.lambda1', tensor(1.0017))])\n",
      "Epoch [6/20], Step [60/100], Loss: 0.8633, Params: OrderedDict([('layer1.lambda1', tensor(-0.1171)), ('layer1.lambda2', tensor(-1.6312)), ('layer1.lambda3', tensor(-0.8045)), ('layer2.lambda1', tensor(0.6856)), ('layer2.lambda2', tensor(-1.4684)), ('layer2.lambda3', tensor(-1.3368)), ('layer3.lambda1', tensor(1.0013))])\n",
      "Epoch [6/20], Step [80/100], Loss: 1.0114, Params: OrderedDict([('layer1.lambda1', tensor(-0.1727)), ('layer1.lambda2', tensor(-1.7347)), ('layer1.lambda3', tensor(-0.8718)), ('layer2.lambda1', tensor(0.6301)), ('layer2.lambda2', tensor(-1.5719)), ('layer2.lambda3', tensor(-1.4042)), ('layer3.lambda1', tensor(1.0045))])\n",
      "Epoch [6/20], Step [100/100], Loss: 0.9913, Params: OrderedDict([('layer1.lambda1', tensor(-0.1928)), ('layer1.lambda2', tensor(-1.7994)), ('layer1.lambda3', tensor(-0.9403)), ('layer2.lambda1', tensor(0.6099)), ('layer2.lambda2', tensor(-1.6366)), ('layer2.lambda3', tensor(-1.4726)), ('layer3.lambda1', tensor(1.0017))])\n",
      "Epoch [7/20], Step [20/100], Loss: 1.4833, Params: OrderedDict([('layer1.lambda1', tensor(-0.1778)), ('layer1.lambda2', tensor(-1.8561)), ('layer1.lambda3', tensor(-0.9729)), ('layer2.lambda1', tensor(0.6249)), ('layer2.lambda2', tensor(-1.6932)), ('layer2.lambda3', tensor(-1.5052)), ('layer3.lambda1', tensor(1.0007))])\n",
      "Epoch [7/20], Step [40/100], Loss: 0.9762, Params: OrderedDict([('layer1.lambda1', tensor(-0.1618)), ('layer1.lambda2', tensor(-1.8990)), ('layer1.lambda3', tensor(-0.9005)), ('layer2.lambda1', tensor(0.6410)), ('layer2.lambda2', tensor(-1.7362)), ('layer2.lambda3', tensor(-1.4329)), ('layer3.lambda1', tensor(1.0005))])\n",
      "Epoch [7/20], Step [60/100], Loss: 0.7568, Params: OrderedDict([('layer1.lambda1', tensor(-0.1564)), ('layer1.lambda2', tensor(-1.9316)), ('layer1.lambda3', tensor(-0.8741)), ('layer2.lambda1', tensor(0.6464)), ('layer2.lambda2', tensor(-1.7688)), ('layer2.lambda3', tensor(-1.4064)), ('layer3.lambda1', tensor(1.0037))])\n",
      "Epoch [7/20], Step [80/100], Loss: 1.5112, Params: OrderedDict([('layer1.lambda1', tensor(-0.1199)), ('layer1.lambda2', tensor(-1.9393)), ('layer1.lambda3', tensor(-0.8750)), ('layer2.lambda1', tensor(0.6828)), ('layer2.lambda2', tensor(-1.7764)), ('layer2.lambda3', tensor(-1.4073)), ('layer3.lambda1', tensor(1.0012))])\n",
      "Epoch [7/20], Step [100/100], Loss: 1.1179, Params: OrderedDict([('layer1.lambda1', tensor(-0.1562)), ('layer1.lambda2', tensor(-2.0348)), ('layer1.lambda3', tensor(-0.9276)), ('layer2.lambda1', tensor(0.6466)), ('layer2.lambda2', tensor(-1.8720)), ('layer2.lambda3', tensor(-1.4599)), ('layer3.lambda1', tensor(0.9991))])\n",
      "Epoch [8/20], Step [20/100], Loss: 0.8345, Params: OrderedDict([('layer1.lambda1', tensor(-0.2225)), ('layer1.lambda2', tensor(-2.1323)), ('layer1.lambda3', tensor(-0.9662)), ('layer2.lambda1', tensor(0.5803)), ('layer2.lambda2', tensor(-1.9695)), ('layer2.lambda3', tensor(-1.4985)), ('layer3.lambda1', tensor(1.0033))])\n",
      "Epoch [8/20], Step [40/100], Loss: 1.2879, Params: OrderedDict([('layer1.lambda1', tensor(-0.2313)), ('layer1.lambda2', tensor(-2.1824)), ('layer1.lambda3', tensor(-0.9382)), ('layer2.lambda1', tensor(0.5714)), ('layer2.lambda2', tensor(-2.0196)), ('layer2.lambda3', tensor(-1.4705)), ('layer3.lambda1', tensor(1.0038))])\n",
      "Epoch [8/20], Step [60/100], Loss: 0.7437, Params: OrderedDict([('layer1.lambda1', tensor(-0.2230)), ('layer1.lambda2', tensor(-2.2156)), ('layer1.lambda3', tensor(-0.9581)), ('layer2.lambda1', tensor(0.5798)), ('layer2.lambda2', tensor(-2.0528)), ('layer2.lambda3', tensor(-1.4904)), ('layer3.lambda1', tensor(1.0024))])\n",
      "Epoch [8/20], Step [80/100], Loss: 1.0156, Params: OrderedDict([('layer1.lambda1', tensor(-0.2035)), ('layer1.lambda2', tensor(-2.2641)), ('layer1.lambda3', tensor(-0.9480)), ('layer2.lambda1', tensor(0.5992)), ('layer2.lambda2', tensor(-2.1013)), ('layer2.lambda3', tensor(-1.4803)), ('layer3.lambda1', tensor(1.0012))])\n",
      "Epoch [8/20], Step [100/100], Loss: 0.8099, Params: OrderedDict([('layer1.lambda1', tensor(-0.1626)), ('layer1.lambda2', tensor(-2.3076)), ('layer1.lambda3', tensor(-0.9089)), ('layer2.lambda1', tensor(0.6401)), ('layer2.lambda2', tensor(-2.1448)), ('layer2.lambda3', tensor(-1.4412)), ('layer3.lambda1', tensor(0.9981))])\n",
      "Epoch [9/20], Step [20/100], Loss: 0.6291, Params: OrderedDict([('layer1.lambda1', tensor(-0.1555)), ('layer1.lambda2', tensor(-2.3385)), ('layer1.lambda3', tensor(-0.9201)), ('layer2.lambda1', tensor(0.6473)), ('layer2.lambda2', tensor(-2.1757)), ('layer2.lambda3', tensor(-1.4525)), ('layer3.lambda1', tensor(1.0016))])\n",
      "Epoch [9/20], Step [40/100], Loss: 0.7175, Params: OrderedDict([('layer1.lambda1', tensor(-0.1680)), ('layer1.lambda2', tensor(-2.3740)), ('layer1.lambda3', tensor(-0.9754)), ('layer2.lambda1', tensor(0.6347)), ('layer2.lambda2', tensor(-2.2111)), ('layer2.lambda3', tensor(-1.5077)), ('layer3.lambda1', tensor(1.0035))])\n",
      "Epoch [9/20], Step [60/100], Loss: 1.6708, Params: OrderedDict([('layer1.lambda1', tensor(-0.1725)), ('layer1.lambda2', tensor(-2.4217)), ('layer1.lambda3', tensor(-1.0190)), ('layer2.lambda1', tensor(0.6302)), ('layer2.lambda2', tensor(-2.2589)), ('layer2.lambda3', tensor(-1.5513)), ('layer3.lambda1', tensor(0.9977))])\n",
      "Epoch [9/20], Step [80/100], Loss: 0.8967, Params: OrderedDict([('layer1.lambda1', tensor(-0.1888)), ('layer1.lambda2', tensor(-2.4810)), ('layer1.lambda3', tensor(-1.0719)), ('layer2.lambda1', tensor(0.6139)), ('layer2.lambda2', tensor(-2.3182)), ('layer2.lambda3', tensor(-1.6043)), ('layer3.lambda1', tensor(0.9999))])\n",
      "Epoch [9/20], Step [100/100], Loss: 1.7254, Params: OrderedDict([('layer1.lambda1', tensor(-0.2179)), ('layer1.lambda2', tensor(-2.5200)), ('layer1.lambda3', tensor(-1.1394)), ('layer2.lambda1', tensor(0.5848)), ('layer2.lambda2', tensor(-2.3572)), ('layer2.lambda3', tensor(-1.6717)), ('layer3.lambda1', tensor(1.0025))])\n",
      "Epoch [10/20], Step [20/100], Loss: 0.8363, Params: OrderedDict([('layer1.lambda1', tensor(-0.1828)), ('layer1.lambda2', tensor(-2.5354)), ('layer1.lambda3', tensor(-1.1576)), ('layer2.lambda1', tensor(0.6200)), ('layer2.lambda2', tensor(-2.3726)), ('layer2.lambda3', tensor(-1.6900)), ('layer3.lambda1', tensor(1.0019))])\n",
      "Epoch [10/20], Step [40/100], Loss: 0.8229, Params: OrderedDict([('layer1.lambda1', tensor(-0.1508)), ('layer1.lambda2', tensor(-2.5579)), ('layer1.lambda3', tensor(-1.1350)), ('layer2.lambda1', tensor(0.6519)), ('layer2.lambda2', tensor(-2.3951)), ('layer2.lambda3', tensor(-1.6673)), ('layer3.lambda1', tensor(0.9977))])\n",
      "Epoch [10/20], Step [60/100], Loss: 1.0353, Params: OrderedDict([('layer1.lambda1', tensor(-0.1529)), ('layer1.lambda2', tensor(-2.5373)), ('layer1.lambda3', tensor(-1.1168)), ('layer2.lambda1', tensor(0.6498)), ('layer2.lambda2', tensor(-2.3745)), ('layer2.lambda3', tensor(-1.6491)), ('layer3.lambda1', tensor(1.0008))])\n",
      "Epoch [10/20], Step [80/100], Loss: 1.5856, Params: OrderedDict([('layer1.lambda1', tensor(-0.1748)), ('layer1.lambda2', tensor(-2.5497)), ('layer1.lambda3', tensor(-1.1365)), ('layer2.lambda1', tensor(0.6279)), ('layer2.lambda2', tensor(-2.3869)), ('layer2.lambda3', tensor(-1.6689)), ('layer3.lambda1', tensor(1.0043))])\n",
      "Epoch [10/20], Step [100/100], Loss: 0.5483, Params: OrderedDict([('layer1.lambda1', tensor(-0.2292)), ('layer1.lambda2', tensor(-2.6200)), ('layer1.lambda3', tensor(-1.1754)), ('layer2.lambda1', tensor(0.5735)), ('layer2.lambda2', tensor(-2.4572)), ('layer2.lambda3', tensor(-1.7078)), ('layer3.lambda1', tensor(1.0035))])\n",
      "Epoch [11/20], Step [20/100], Loss: 1.5754, Params: OrderedDict([('layer1.lambda1', tensor(-0.2915)), ('layer1.lambda2', tensor(-2.6897)), ('layer1.lambda3', tensor(-1.2665)), ('layer2.lambda1', tensor(0.5112)), ('layer2.lambda2', tensor(-2.5269)), ('layer2.lambda3', tensor(-1.7989)), ('layer3.lambda1', tensor(1.0019))])\n",
      "Epoch [11/20], Step [40/100], Loss: 2.0929, Params: OrderedDict([('layer1.lambda1', tensor(-0.3065)), ('layer1.lambda2', tensor(-2.7408)), ('layer1.lambda3', tensor(-1.3296)), ('layer2.lambda1', tensor(0.4962)), ('layer2.lambda2', tensor(-2.5780)), ('layer2.lambda3', tensor(-1.8619)), ('layer3.lambda1', tensor(0.9957))])\n"
     ]
    },
    {
     "name": "stdout",
     "output_type": "stream",
     "text": [
      "Epoch [11/20], Step [60/100], Loss: 0.9551, Params: OrderedDict([('layer1.lambda1', tensor(-0.3031)), ('layer1.lambda2', tensor(-2.8114)), ('layer1.lambda3', tensor(-1.3747)), ('layer2.lambda1', tensor(0.4997)), ('layer2.lambda2', tensor(-2.6486)), ('layer2.lambda3', tensor(-1.9070)), ('layer3.lambda1', tensor(1.0031))])\n",
      "Epoch [11/20], Step [80/100], Loss: 0.8236, Params: OrderedDict([('layer1.lambda1', tensor(-0.3084)), ('layer1.lambda2', tensor(-2.8512)), ('layer1.lambda3', tensor(-1.3949)), ('layer2.lambda1', tensor(0.4944)), ('layer2.lambda2', tensor(-2.6884)), ('layer2.lambda3', tensor(-1.9272)), ('layer3.lambda1', tensor(1.0040))])\n",
      "Epoch [11/20], Step [100/100], Loss: 1.5850, Params: OrderedDict([('layer1.lambda1', tensor(-0.3225)), ('layer1.lambda2', tensor(-2.8532)), ('layer1.lambda3', tensor(-1.3816)), ('layer2.lambda1', tensor(0.4802)), ('layer2.lambda2', tensor(-2.6904)), ('layer2.lambda3', tensor(-1.9139)), ('layer3.lambda1', tensor(1.0025))])\n",
      "Epoch [12/20], Step [20/100], Loss: 1.0098, Params: OrderedDict([('layer1.lambda1', tensor(-0.3684)), ('layer1.lambda2', tensor(-2.9126)), ('layer1.lambda3', tensor(-1.4409)), ('layer2.lambda1', tensor(0.4344)), ('layer2.lambda2', tensor(-2.7498)), ('layer2.lambda3', tensor(-1.9732)), ('layer3.lambda1', tensor(1.0009))])\n",
      "Epoch [12/20], Step [40/100], Loss: 1.7212, Params: OrderedDict([('layer1.lambda1', tensor(-0.3516)), ('layer1.lambda2', tensor(-2.9491)), ('layer1.lambda3', tensor(-1.4559)), ('layer2.lambda1', tensor(0.4511)), ('layer2.lambda2', tensor(-2.7862)), ('layer2.lambda3', tensor(-1.9883)), ('layer3.lambda1', tensor(1.0022))])\n",
      "Epoch [12/20], Step [60/100], Loss: 1.1493, Params: OrderedDict([('layer1.lambda1', tensor(-0.3710)), ('layer1.lambda2', tensor(-2.9576)), ('layer1.lambda3', tensor(-1.4811)), ('layer2.lambda1', tensor(0.4318)), ('layer2.lambda2', tensor(-2.7948)), ('layer2.lambda3', tensor(-2.0135)), ('layer3.lambda1', tensor(1.0033))])\n",
      "Epoch [12/20], Step [80/100], Loss: 0.9515, Params: OrderedDict([('layer1.lambda1', tensor(-0.4192)), ('layer1.lambda2', tensor(-3.0263)), ('layer1.lambda3', tensor(-1.5195)), ('layer2.lambda1', tensor(0.3835)), ('layer2.lambda2', tensor(-2.8635)), ('layer2.lambda3', tensor(-2.0518)), ('layer3.lambda1', tensor(1.0013))])\n",
      "Epoch [12/20], Step [100/100], Loss: 0.7614, Params: OrderedDict([('layer1.lambda1', tensor(-0.4670)), ('layer1.lambda2', tensor(-3.1071)), ('layer1.lambda3', tensor(-1.5522)), ('layer2.lambda1', tensor(0.3357)), ('layer2.lambda2', tensor(-2.9443)), ('layer2.lambda3', tensor(-2.0845)), ('layer3.lambda1', tensor(1.0009))])\n",
      "Epoch [13/20], Step [20/100], Loss: 0.4746, Params: OrderedDict([('layer1.lambda1', tensor(-0.4941)), ('layer1.lambda2', tensor(-3.1877)), ('layer1.lambda3', tensor(-1.5772)), ('layer2.lambda1', tensor(0.3086)), ('layer2.lambda2', tensor(-3.0249)), ('layer2.lambda3', tensor(-2.1095)), ('layer3.lambda1', tensor(1.0027))])\n",
      "Epoch [13/20], Step [40/100], Loss: 0.9996, Params: OrderedDict([('layer1.lambda1', tensor(-0.5012)), ('layer1.lambda2', tensor(-3.2235)), ('layer1.lambda3', tensor(-1.6036)), ('layer2.lambda1', tensor(0.3016)), ('layer2.lambda2', tensor(-3.0606)), ('layer2.lambda3', tensor(-2.1359)), ('layer3.lambda1', tensor(1.0017))])\n",
      "Epoch [13/20], Step [60/100], Loss: 0.7951, Params: OrderedDict([('layer1.lambda1', tensor(-0.5157)), ('layer1.lambda2', tensor(-3.2434)), ('layer1.lambda3', tensor(-1.6403)), ('layer2.lambda1', tensor(0.2870)), ('layer2.lambda2', tensor(-3.0806)), ('layer2.lambda3', tensor(-2.1726)), ('layer3.lambda1', tensor(1.0007))])\n",
      "Epoch [13/20], Step [80/100], Loss: 0.9098, Params: OrderedDict([('layer1.lambda1', tensor(-0.5685)), ('layer1.lambda2', tensor(-3.2750)), ('layer1.lambda3', tensor(-1.6940)), ('layer2.lambda1', tensor(0.2343)), ('layer2.lambda2', tensor(-3.1122)), ('layer2.lambda3', tensor(-2.2263)), ('layer3.lambda1', tensor(1.0022))])\n",
      "Epoch [13/20], Step [100/100], Loss: 0.9770, Params: OrderedDict([('layer1.lambda1', tensor(-0.5428)), ('layer1.lambda2', tensor(-3.3182)), ('layer1.lambda3', tensor(-1.7168)), ('layer2.lambda1', tensor(0.2599)), ('layer2.lambda2', tensor(-3.1554)), ('layer2.lambda3', tensor(-2.2491)), ('layer3.lambda1', tensor(1.0003))])\n",
      "Epoch [14/20], Step [20/100], Loss: 0.8563, Params: OrderedDict([('layer1.lambda1', tensor(-0.4980)), ('layer1.lambda2', tensor(-3.3401)), ('layer1.lambda3', tensor(-1.6965)), ('layer2.lambda1', tensor(0.3047)), ('layer2.lambda2', tensor(-3.1773)), ('layer2.lambda3', tensor(-2.2288)), ('layer3.lambda1', tensor(1.0044))])\n",
      "Epoch [14/20], Step [40/100], Loss: 1.1117, Params: OrderedDict([('layer1.lambda1', tensor(-0.5210)), ('layer1.lambda2', tensor(-3.3884)), ('layer1.lambda3', tensor(-1.7262)), ('layer2.lambda1', tensor(0.2817)), ('layer2.lambda2', tensor(-3.2255)), ('layer2.lambda3', tensor(-2.2586)), ('layer3.lambda1', tensor(1.0002))])\n",
      "Epoch [14/20], Step [60/100], Loss: 0.6773, Params: OrderedDict([('layer1.lambda1', tensor(-0.5443)), ('layer1.lambda2', tensor(-3.4426)), ('layer1.lambda3', tensor(-1.7921)), ('layer2.lambda1', tensor(0.2584)), ('layer2.lambda2', tensor(-3.2798)), ('layer2.lambda3', tensor(-2.3244)), ('layer3.lambda1', tensor(1.0040))])\n",
      "Epoch [14/20], Step [80/100], Loss: 1.0964, Params: OrderedDict([('layer1.lambda1', tensor(-0.5715)), ('layer1.lambda2', tensor(-3.5109)), ('layer1.lambda3', tensor(-1.8220)), ('layer2.lambda1', tensor(0.2312)), ('layer2.lambda2', tensor(-3.3481)), ('layer2.lambda3', tensor(-2.3543)), ('layer3.lambda1', tensor(1.0006))])\n",
      "Epoch [14/20], Step [100/100], Loss: 0.6966, Params: OrderedDict([('layer1.lambda1', tensor(-0.5974)), ('layer1.lambda2', tensor(-3.5307)), ('layer1.lambda3', tensor(-1.8371)), ('layer2.lambda1', tensor(0.2054)), ('layer2.lambda2', tensor(-3.3678)), ('layer2.lambda3', tensor(-2.3694)), ('layer3.lambda1', tensor(0.9993))])\n",
      "Epoch [15/20], Step [20/100], Loss: 0.7100, Params: OrderedDict([('layer1.lambda1', tensor(-0.5923)), ('layer1.lambda2', tensor(-3.5559)), ('layer1.lambda3', tensor(-1.8485)), ('layer2.lambda1', tensor(0.2104)), ('layer2.lambda2', tensor(-3.3931)), ('layer2.lambda3', tensor(-2.3809)), ('layer3.lambda1', tensor(1.0044))])\n",
      "Epoch [15/20], Step [40/100], Loss: 2.0564, Params: OrderedDict([('layer1.lambda1', tensor(-0.6158)), ('layer1.lambda2', tensor(-3.6373)), ('layer1.lambda3', tensor(-1.9162)), ('layer2.lambda1', tensor(0.1869)), ('layer2.lambda2', tensor(-3.4745)), ('layer2.lambda3', tensor(-2.4486)), ('layer3.lambda1', tensor(1.0005))])\n",
      "Epoch [15/20], Step [60/100], Loss: 0.3757, Params: OrderedDict([('layer1.lambda1', tensor(-0.6357)), ('layer1.lambda2', tensor(-3.7059)), ('layer1.lambda3', tensor(-1.9778)), ('layer2.lambda1', tensor(0.1670)), ('layer2.lambda2', tensor(-3.5431)), ('layer2.lambda3', tensor(-2.5101)), ('layer3.lambda1', tensor(1.0001))])\n",
      "Epoch [15/20], Step [80/100], Loss: 1.0301, Params: OrderedDict([('layer1.lambda1', tensor(-0.7167)), ('layer1.lambda2', tensor(-3.7746)), ('layer1.lambda3', tensor(-2.0120)), ('layer2.lambda1', tensor(0.0861)), ('layer2.lambda2', tensor(-3.6118)), ('layer2.lambda3', tensor(-2.5443)), ('layer3.lambda1', tensor(0.9995))])\n",
      "Epoch [15/20], Step [100/100], Loss: 1.1183, Params: OrderedDict([('layer1.lambda1', tensor(-0.7344)), ('layer1.lambda2', tensor(-3.8072)), ('layer1.lambda3', tensor(-2.0350)), ('layer2.lambda1', tensor(0.0683)), ('layer2.lambda2', tensor(-3.6444)), ('layer2.lambda3', tensor(-2.5673)), ('layer3.lambda1', tensor(1.0019))])\n",
      "Epoch [16/20], Step [20/100], Loss: 1.7556, Params: OrderedDict([('layer1.lambda1', tensor(-0.7807)), ('layer1.lambda2', tensor(-3.8756)), ('layer1.lambda3', tensor(-2.0762)), ('layer2.lambda1', tensor(0.0220)), ('layer2.lambda2', tensor(-3.7128)), ('layer2.lambda3', tensor(-2.6085)), ('layer3.lambda1', tensor(1.0035))])\n",
      "Epoch [16/20], Step [40/100], Loss: 2.0909, Params: OrderedDict([('layer1.lambda1', tensor(-0.8248)), ('layer1.lambda2', tensor(-3.9003)), ('layer1.lambda3', tensor(-2.0752)), ('layer2.lambda1', tensor(-0.0220)), ('layer2.lambda2', tensor(-3.7375)), ('layer2.lambda3', tensor(-2.6075)), ('layer3.lambda1', tensor(1.0038))])\n",
      "Epoch [16/20], Step [60/100], Loss: 0.7709, Params: OrderedDict([('layer1.lambda1', tensor(-0.8626)), ('layer1.lambda2', tensor(-3.8913)), ('layer1.lambda3', tensor(-2.0583)), ('layer2.lambda1', tensor(-0.0599)), ('layer2.lambda2', tensor(-3.7284)), ('layer2.lambda3', tensor(-2.5906)), ('layer3.lambda1', tensor(1.0027))])\n"
     ]
    },
    {
     "name": "stdout",
     "output_type": "stream",
     "text": [
      "Epoch [16/20], Step [80/100], Loss: 1.3111, Params: OrderedDict([('layer1.lambda1', tensor(-0.8753)), ('layer1.lambda2', tensor(-3.9493)), ('layer1.lambda3', tensor(-2.0769)), ('layer2.lambda1', tensor(-0.0725)), ('layer2.lambda2', tensor(-3.7865)), ('layer2.lambda3', tensor(-2.6092)), ('layer3.lambda1', tensor(0.9995))])\n",
      "Epoch [16/20], Step [100/100], Loss: 0.4830, Params: OrderedDict([('layer1.lambda1', tensor(-0.9143)), ('layer1.lambda2', tensor(-4.0837)), ('layer1.lambda3', tensor(-2.1144)), ('layer2.lambda1', tensor(-0.1116)), ('layer2.lambda2', tensor(-3.9209)), ('layer2.lambda3', tensor(-2.6468)), ('layer3.lambda1', tensor(1.0007))])\n",
      "Epoch [17/20], Step [20/100], Loss: 0.8505, Params: OrderedDict([('layer1.lambda1', tensor(-0.9331)), ('layer1.lambda2', tensor(-4.1283)), ('layer1.lambda3', tensor(-2.1559)), ('layer2.lambda1', tensor(-0.1304)), ('layer2.lambda2', tensor(-3.9654)), ('layer2.lambda3', tensor(-2.6882)), ('layer3.lambda1', tensor(1.0011))])\n",
      "Epoch [17/20], Step [40/100], Loss: 1.1223, Params: OrderedDict([('layer1.lambda1', tensor(-0.9374)), ('layer1.lambda2', tensor(-4.1398)), ('layer1.lambda3', tensor(-2.1665)), ('layer2.lambda1', tensor(-0.1346)), ('layer2.lambda2', tensor(-3.9770)), ('layer2.lambda3', tensor(-2.6989)), ('layer3.lambda1', tensor(1.0023))])\n",
      "Epoch [17/20], Step [60/100], Loss: 0.9570, Params: OrderedDict([('layer1.lambda1', tensor(-0.9701)), ('layer1.lambda2', tensor(-4.2072)), ('layer1.lambda3', tensor(-2.1987)), ('layer2.lambda1', tensor(-0.1674)), ('layer2.lambda2', tensor(-4.0444)), ('layer2.lambda3', tensor(-2.7310)), ('layer3.lambda1', tensor(0.9957))])\n",
      "Epoch [17/20], Step [80/100], Loss: 0.4585, Params: OrderedDict([('layer1.lambda1', tensor(-0.9994)), ('layer1.lambda2', tensor(-4.2637)), ('layer1.lambda3', tensor(-2.2083)), ('layer2.lambda1', tensor(-0.1967)), ('layer2.lambda2', tensor(-4.1009)), ('layer2.lambda3', tensor(-2.7407)), ('layer3.lambda1', tensor(1.0024))])\n",
      "Epoch [17/20], Step [100/100], Loss: 0.5698, Params: OrderedDict([('layer1.lambda1', tensor(-0.9692)), ('layer1.lambda2', tensor(-4.2433)), ('layer1.lambda3', tensor(-2.1949)), ('layer2.lambda1', tensor(-0.1665)), ('layer2.lambda2', tensor(-4.0805)), ('layer2.lambda3', tensor(-2.7272)), ('layer3.lambda1', tensor(1.0058))])\n",
      "Epoch [18/20], Step [20/100], Loss: 0.8301, Params: OrderedDict([('layer1.lambda1', tensor(-0.9555)), ('layer1.lambda2', tensor(-4.2453)), ('layer1.lambda3', tensor(-2.1231)), ('layer2.lambda1', tensor(-0.1527)), ('layer2.lambda2', tensor(-4.0825)), ('layer2.lambda3', tensor(-2.6555)), ('layer3.lambda1', tensor(1.0007))])\n",
      "Epoch [18/20], Step [40/100], Loss: 0.9034, Params: OrderedDict([('layer1.lambda1', tensor(-0.9465)), ('layer1.lambda2', tensor(-4.2835)), ('layer1.lambda3', tensor(-2.1196)), ('layer2.lambda1', tensor(-0.1438)), ('layer2.lambda2', tensor(-4.1207)), ('layer2.lambda3', tensor(-2.6519)), ('layer3.lambda1', tensor(1.0032))])\n",
      "Epoch [18/20], Step [60/100], Loss: 0.4973, Params: OrderedDict([('layer1.lambda1', tensor(-0.9435)), ('layer1.lambda2', tensor(-4.3394)), ('layer1.lambda3', tensor(-2.1449)), ('layer2.lambda1', tensor(-0.1408)), ('layer2.lambda2', tensor(-4.1766)), ('layer2.lambda3', tensor(-2.6773)), ('layer3.lambda1', tensor(0.9998))])\n",
      "Epoch [18/20], Step [80/100], Loss: 1.1875, Params: OrderedDict([('layer1.lambda1', tensor(-0.9976)), ('layer1.lambda2', tensor(-4.4366)), ('layer1.lambda3', tensor(-2.2114)), ('layer2.lambda1', tensor(-0.1949)), ('layer2.lambda2', tensor(-4.2738)), ('layer2.lambda3', tensor(-2.7438)), ('layer3.lambda1', tensor(1.0028))])\n",
      "Epoch [18/20], Step [100/100], Loss: 0.8434, Params: OrderedDict([('layer1.lambda1', tensor(-1.0405)), ('layer1.lambda2', tensor(-4.4910)), ('layer1.lambda3', tensor(-2.2527)), ('layer2.lambda1', tensor(-0.2377)), ('layer2.lambda2', tensor(-4.3282)), ('layer2.lambda3', tensor(-2.7850)), ('layer3.lambda1', tensor(1.0019))])\n",
      "Epoch [19/20], Step [20/100], Loss: 0.5532, Params: OrderedDict([('layer1.lambda1', tensor(-1.0833)), ('layer1.lambda2', tensor(-4.5834)), ('layer1.lambda3', tensor(-2.3121)), ('layer2.lambda1', tensor(-0.2805)), ('layer2.lambda2', tensor(-4.4206)), ('layer2.lambda3', tensor(-2.8444)), ('layer3.lambda1', tensor(1.0015))])\n",
      "Epoch [19/20], Step [40/100], Loss: 1.1104, Params: OrderedDict([('layer1.lambda1', tensor(-1.1276)), ('layer1.lambda2', tensor(-4.6346)), ('layer1.lambda3', tensor(-2.3314)), ('layer2.lambda1', tensor(-0.3249)), ('layer2.lambda2', tensor(-4.4718)), ('layer2.lambda3', tensor(-2.8638)), ('layer3.lambda1', tensor(1.0026))])\n",
      "Epoch [19/20], Step [60/100], Loss: 1.5983, Params: OrderedDict([('layer1.lambda1', tensor(-1.1300)), ('layer1.lambda2', tensor(-4.6243)), ('layer1.lambda3', tensor(-2.3318)), ('layer2.lambda1', tensor(-0.3273)), ('layer2.lambda2', tensor(-4.4615)), ('layer2.lambda3', tensor(-2.8641)), ('layer3.lambda1', tensor(1.0025))])\n",
      "Epoch [19/20], Step [80/100], Loss: 2.6301, Params: OrderedDict([('layer1.lambda1', tensor(-1.1224)), ('layer1.lambda2', tensor(-4.6399)), ('layer1.lambda3', tensor(-2.3197)), ('layer2.lambda1', tensor(-0.3197)), ('layer2.lambda2', tensor(-4.4771)), ('layer2.lambda3', tensor(-2.8520)), ('layer3.lambda1', tensor(0.9960))])\n",
      "Epoch [19/20], Step [100/100], Loss: 1.4403, Params: OrderedDict([('layer1.lambda1', tensor(-1.1459)), ('layer1.lambda2', tensor(-4.6791)), ('layer1.lambda3', tensor(-2.3059)), ('layer2.lambda1', tensor(-0.3431)), ('layer2.lambda2', tensor(-4.5163)), ('layer2.lambda3', tensor(-2.8382)), ('layer3.lambda1', tensor(1.0075))])\n",
      "Epoch [20/20], Step [20/100], Loss: 0.5885, Params: OrderedDict([('layer1.lambda1', tensor(-1.1990)), ('layer1.lambda2', tensor(-4.7366)), ('layer1.lambda3', tensor(-2.3209)), ('layer2.lambda1', tensor(-0.3963)), ('layer2.lambda2', tensor(-4.5738)), ('layer2.lambda3', tensor(-2.8532)), ('layer3.lambda1', tensor(1.0017))])\n",
      "Epoch [20/20], Step [40/100], Loss: 0.4813, Params: OrderedDict([('layer1.lambda1', tensor(-1.2522)), ('layer1.lambda2', tensor(-4.7181)), ('layer1.lambda3', tensor(-2.3090)), ('layer2.lambda1', tensor(-0.4495)), ('layer2.lambda2', tensor(-4.5553)), ('layer2.lambda3', tensor(-2.8413)), ('layer3.lambda1', tensor(0.9964))])\n",
      "Epoch [20/20], Step [60/100], Loss: 0.8393, Params: OrderedDict([('layer1.lambda1', tensor(-1.3443)), ('layer1.lambda2', tensor(-4.8055)), ('layer1.lambda3', tensor(-2.3723)), ('layer2.lambda1', tensor(-0.5415)), ('layer2.lambda2', tensor(-4.6427)), ('layer2.lambda3', tensor(-2.9046)), ('layer3.lambda1', tensor(1.0078))])\n",
      "Epoch [20/20], Step [80/100], Loss: 0.8160, Params: OrderedDict([('layer1.lambda1', tensor(-1.4217)), ('layer1.lambda2', tensor(-4.8453)), ('layer1.lambda3', tensor(-2.3755)), ('layer2.lambda1', tensor(-0.6190)), ('layer2.lambda2', tensor(-4.6824)), ('layer2.lambda3', tensor(-2.9078)), ('layer3.lambda1', tensor(1.0005))])\n",
      "Epoch [20/20], Step [100/100], Loss: 1.0139, Params: OrderedDict([('layer1.lambda1', tensor(-1.4333)), ('layer1.lambda2', tensor(-4.9092)), ('layer1.lambda3', tensor(-2.3942)), ('layer2.lambda1', tensor(-0.6306)), ('layer2.lambda2', tensor(-4.7464)), ('layer2.lambda3', tensor(-2.9265)), ('layer3.lambda1', tensor(1.0020))])\n"
     ]
    }
   ],
   "source": [
    "train_model(model_Orth_Network, train_dataloader, n_epochs, loss_fn, optimizer_Orth_Network, device)"
   ]
  },
  {
   "cell_type": "markdown",
   "id": "a82561cd",
   "metadata": {},
   "source": [
    "Finally, we save the trained models for future use."
   ]
  },
  {
   "cell_type": "code",
   "execution_count": 25,
   "id": "4ed622d4",
   "metadata": {},
   "outputs": [
    {
     "name": "stdout",
     "output_type": "stream",
     "text": [
      "Saved PyTorch Model State to linearNet.pth\n",
      "Saved PyTorch Model State to orthLayerNet.pth\n",
      "Saved PyTorch Model State to orthNetworkNet.pth\n"
     ]
    }
   ],
   "source": [
    "torch.save(model_linear.state_dict(), \"linearNet.pth\")\n",
    "print(\"Saved PyTorch Model State to linearNet.pth\")\n",
    "\n",
    "torch.save(model_Orth_layer.state_dict(), \"orthLayerNet.pth\")\n",
    "print(\"Saved PyTorch Model State to orthLayerNet.pth\")\n",
    "\n",
    "torch.save(model_Orth_Network.state_dict(), \"orthNetworkNet.pth\")\n",
    "print(\"Saved PyTorch Model State to orthNetworkNet.pth\")"
   ]
  },
  {
   "cell_type": "code",
   "execution_count": 26,
   "id": "8122d676",
   "metadata": {},
   "outputs": [],
   "source": [
    "### THEN NEED TO TRAIN AND SAVE A NUMBER OF MODELS\n",
    "### THEN NEED TO DO MULTIPLE LOSS RUNS AND GRAPH THEM, AND FIX THE TESTING BIT!"
   ]
  },
  {
   "cell_type": "markdown",
   "id": "f3133033",
   "metadata": {},
   "source": [
    "### Part III: Test Data + Test Loss"
   ]
  },
  {
   "cell_type": "markdown",
   "id": "a58625c0",
   "metadata": {},
   "source": [
    "We now generate some test data."
   ]
  },
  {
   "cell_type": "code",
   "execution_count": 35,
   "id": "98ccf4bf",
   "metadata": {},
   "outputs": [
    {
     "name": "stdout",
     "output_type": "stream",
     "text": [
      "[[ 0.49671415 -0.1382643 ]\n",
      " [ 0.64768854  1.52302986]\n",
      " [-0.23415337 -0.23413696]\n",
      " ...\n",
      " [ 0.74744497  0.29787619]\n",
      " [ 0.45015563 -0.10435845]\n",
      " [ 1.77549085 -1.47919602]]\n",
      "[[ 0.13965167  0.06502463]\n",
      " [ 0.81328041 -0.84385388]\n",
      " [-1.7436726   0.15682302]\n",
      " ...\n",
      " [ 0.29613359 -0.58815313]\n",
      " [ 1.45079947 -1.11714176]\n",
      " [ 0.26162526  0.24611771]]\n",
      "[[0. 0. 0. 0.]\n",
      " [0. 0. 0. 0.]\n",
      " [0. 0. 0. 0.]\n",
      " ...\n",
      " [0. 0. 0. 0.]\n",
      " [0. 0. 0. 0.]\n",
      " [0. 0. 0. 0.]]\n"
     ]
    }
   ],
   "source": [
    "#Data Test Generation\n",
    "np.random.seed(42)\n",
    "M = 3600\n",
    "\n",
    "X_1_test = np.random.randn(M, dim)\n",
    "print(X_1_test)\n",
    "\n",
    "X_2_test = np.random.randn(M, dim)\n",
    "print(X_2_test)\n",
    "\n",
    "X_test = np.zeros((M, dim*dim))\n",
    "print(X_test)"
   ]
  },
  {
   "cell_type": "code",
   "execution_count": 36,
   "id": "fa4f078c",
   "metadata": {
    "scrolled": true
   },
   "outputs": [
    {
     "name": "stdout",
     "output_type": "stream",
     "text": [
      "[[ 0.06936696  0.03229865 -0.01930884 -0.00899059]\n",
      " [ 0.5267524  -0.54655448  1.23865034 -1.28521465]\n",
      " [ 0.40828682 -0.03672064  0.4082582  -0.03671806]\n",
      " ...\n",
      " [ 0.22134356 -0.4396121   0.08821115 -0.17519681]\n",
      " [ 0.65308555 -0.50288766 -0.15140318  0.11658318]\n",
      " [ 0.46451326  0.43697974 -0.38699505 -0.36405633]]\n"
     ]
    }
   ],
   "source": [
    "for i in range(0,M):\n",
    "    X_test[i] = np.kron(X_1_test[i], X_2_test[i])\n",
    "print(X_test)"
   ]
  },
  {
   "cell_type": "markdown",
   "id": "6a6833d1",
   "metadata": {},
   "source": [
    "#### Do I need to add some scaled Gaussian noise into the test data?"
   ]
  },
  {
   "cell_type": "code",
   "execution_count": 37,
   "id": "8643f80c",
   "metadata": {
    "scrolled": true
   },
   "outputs": [],
   "source": [
    "dotprod_test = np.sum(X_1_test*X_2_test, axis=1)\n",
    "dotprod_test = np.reshape(dotprod_test, (M,1))\n",
    "Y_tensor_test = torch.tensor(dotprod_test, dtype = torch.float, requires_grad = True, device=device)"
   ]
  },
  {
   "cell_type": "markdown",
   "id": "30fb01cb",
   "metadata": {},
   "source": [
    "We create a tensor from the test data, and place it on the device."
   ]
  },
  {
   "cell_type": "code",
   "execution_count": 38,
   "id": "05d72467",
   "metadata": {
    "scrolled": true
   },
   "outputs": [],
   "source": [
    "X_tensor_test = torch.tensor(X_test, dtype = torch.float, requires_grad = True, device=device)"
   ]
  },
  {
   "cell_type": "markdown",
   "id": "fae9b9ae",
   "metadata": {},
   "source": [
    "We now calculate the model outputs for the three models, and calculate their losses."
   ]
  },
  {
   "cell_type": "code",
   "execution_count": 39,
   "id": "2f85cdb5",
   "metadata": {
    "scrolled": true
   },
   "outputs": [],
   "source": [
    "Y_res_linear = model_linear(X_tensor_test)\n",
    "Y_res_Orth_layer = model_Orth_layer(X_tensor_test)\n",
    "Y_res_Orth_Network = model_Orth_Network(X_tensor_test)"
   ]
  },
  {
   "cell_type": "code",
   "execution_count": 40,
   "id": "359b48bc",
   "metadata": {},
   "outputs": [
    {
     "name": "stdout",
     "output_type": "stream",
     "text": [
      "Standard Linear Layer loss:  tensor(1.1249e-05, device='mps:0', grad_fn=<MseLossBackward0>)\n",
      "Orthogonal Linear Layer loss:  tensor(1.3396e-06, device='mps:0', grad_fn=<MseLossBackward0>)\n",
      "Orthogonal NN Layer loss:  tensor(0.9235, device='mps:0', grad_fn=<MseLossBackward0>)\n"
     ]
    }
   ],
   "source": [
    "loss_linear = loss_fn(Y_res_linear, Y_tensor_test)\n",
    "loss_Orth_layer = loss_fn(Y_res_Orth_layer, Y_tensor_test)\n",
    "loss_Orth_Network = loss_fn(Y_res_Orth_Network, Y_tensor_test)\n",
    "print(\"Standard Linear Layer loss: \", loss_linear)\n",
    "print(\"Orthogonal Linear Layer loss: \",loss_Orth_layer)\n",
    "print(\"Orthogonal NN Layer loss: \", loss_Orth_Network)"
   ]
  }
 ],
 "metadata": {
  "kernelspec": {
   "display_name": "Python 3 (ipykernel)",
   "language": "python",
   "name": "python3"
  },
  "language_info": {
   "codemirror_mode": {
    "name": "ipython",
    "version": 3
   },
   "file_extension": ".py",
   "mimetype": "text/x-python",
   "name": "python",
   "nbconvert_exporter": "python",
   "pygments_lexer": "ipython3",
   "version": "3.10.8"
  }
 },
 "nbformat": 4,
 "nbformat_minor": 5
}
